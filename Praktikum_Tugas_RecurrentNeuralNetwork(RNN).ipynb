{
  "nbformat": 4,
  "nbformat_minor": 0,
  "metadata": {
    "colab": {
      "provenance": [],
      "gpuType": "T4",
      "authorship_tag": "ABX9TyMVuxJfCv7Cp6XIr74fIIKx",
      "include_colab_link": true
    },
    "kernelspec": {
      "name": "python3",
      "display_name": "Python 3"
    },
    "language_info": {
      "name": "python"
    },
    "accelerator": "GPU"
  },
  "cells": [
    {
      "cell_type": "markdown",
      "metadata": {
        "id": "view-in-github",
        "colab_type": "text"
      },
      "source": [
        "<a href=\"https://colab.research.google.com/github/FaisAkbar/PembelajaranMesin/blob/main/Praktikum_Tugas_RecurrentNeuralNetwork(RNN).ipynb\" target=\"_parent\"><img src=\"https://colab.research.google.com/assets/colab-badge.svg\" alt=\"Open In Colab\"/></a>"
      ]
    },
    {
      "cell_type": "markdown",
      "source": [
        "### Praktikum - Recurrent Neural Network (RNN)\n",
        "### Nama : Fawaa'el Akbar Firdaus\n",
        "### No : 10\n",
        "### NIM : 2141720215\n",
        "### Kelas : TI-3B\n",
        "### Github : https://github.com/FaisAkbar/PembelajaranMesin"
      ],
      "metadata": {
        "id": "7Sn8w4FiQzUH"
      }
    },
    {
      "cell_type": "markdown",
      "source": [
        "# Praktikum 1\n",
        "RNN untuk Analisis Sentimen"
      ],
      "metadata": {
        "id": "o01WvFkoUc6-"
      }
    },
    {
      "cell_type": "markdown",
      "source": [
        "## Setup\n",
        "Impor matplotlib dan buat fungsi pembantu untuk memplot grafik:"
      ],
      "metadata": {
        "id": "WBunARaAUfIt"
      }
    },
    {
      "cell_type": "code",
      "execution_count": 1,
      "metadata": {
        "id": "9xca2CN9QnJU"
      },
      "outputs": [],
      "source": [
        "import numpy as np\n",
        "import tensorflow_datasets as tfds\n",
        "import tensorflow as tf\n",
        "\n",
        "tfds.disable_progress_bar()"
      ]
    },
    {
      "cell_type": "code",
      "source": [
        "# Construct a tf.data.Dataset\n",
        "ds = tfds.load('imdb_reviews', split='train', shuffle_files=True)"
      ],
      "metadata": {
        "colab": {
          "base_uri": "https://localhost:8080/"
        },
        "id": "SVl5PjbhWRsB",
        "outputId": "c2d88444-57a9-462d-ff2e-079c0e8db35b"
      },
      "execution_count": 2,
      "outputs": [
        {
          "output_type": "stream",
          "name": "stdout",
          "text": [
            "Downloading and preparing dataset 80.23 MiB (download: 80.23 MiB, generated: Unknown size, total: 80.23 MiB) to /root/tensorflow_datasets/imdb_reviews/plain_text/1.0.0...\n",
            "Dataset imdb_reviews downloaded and prepared to /root/tensorflow_datasets/imdb_reviews/plain_text/1.0.0. Subsequent calls will reuse this data.\n"
          ]
        }
      ]
    },
    {
      "cell_type": "code",
      "source": [
        "import matplotlib.pyplot as plt\n",
        "\n",
        "def plot_graphs(history, metric):\n",
        " plt.plot(history.history[metric])\n",
        " plt.plot(history.history['val_'+metric], '')\n",
        " plt.xlabel(\"Epochs\")\n",
        " plt.ylabel(metric)\n",
        " plt.legend([metric, 'val_'+metric])"
      ],
      "metadata": {
        "id": "XFT0z3MaUjzS"
      },
      "execution_count": 3,
      "outputs": []
    },
    {
      "cell_type": "markdown",
      "source": [
        "## Setup input pipeline\n",
        "Dataset ulasan film IMDB adalah kumpulan data klasifikasi biner—semua ulasan memiliki sentimen positif atau negatif. Download dataset menggunakan TFDS"
      ],
      "metadata": {
        "id": "15vrpTf7UmoO"
      }
    },
    {
      "cell_type": "code",
      "source": [
        "dataset, info = tfds.load('imdb_reviews', with_info=True, as_supervised=True)\n",
        "train_dataset, test_dataset = dataset['train'], dataset['test']\n",
        "\n",
        "train_dataset.element_spec"
      ],
      "metadata": {
        "colab": {
          "base_uri": "https://localhost:8080/"
        },
        "id": "nN62gsEfUqGG",
        "outputId": "ae0ef632-b0a0-448e-cba8-66b486e0fa0c"
      },
      "execution_count": 4,
      "outputs": [
        {
          "output_type": "execute_result",
          "data": {
            "text/plain": [
              "(TensorSpec(shape=(), dtype=tf.string, name=None),\n",
              " TensorSpec(shape=(), dtype=tf.int64, name=None))"
            ]
          },
          "metadata": {},
          "execution_count": 4
        }
      ]
    },
    {
      "cell_type": "markdown",
      "source": [
        "Awalnya ini mengembalikan dataset (teks, pasangan label):"
      ],
      "metadata": {
        "id": "vnG5pGU9VVQw"
      }
    },
    {
      "cell_type": "code",
      "source": [
        "for example, label in train_dataset.take(1):\n",
        "  print('text: ', example.numpy())\n",
        "  print('label: ', label.numpy())"
      ],
      "metadata": {
        "colab": {
          "base_uri": "https://localhost:8080/"
        },
        "id": "oq4K1mAhVUJ1",
        "outputId": "388c6caf-53cd-4da3-bbf4-ecd05bba2a7c"
      },
      "execution_count": 5,
      "outputs": [
        {
          "output_type": "stream",
          "name": "stdout",
          "text": [
            "text:  b\"This was an absolutely terrible movie. Don't be lured in by Christopher Walken or Michael Ironside. Both are great actors, but this must simply be their worst role in history. Even their great acting could not redeem this movie's ridiculous storyline. This movie is an early nineties US propaganda piece. The most pathetic scenes were those when the Columbian rebels were making their cases for revolutions. Maria Conchita Alonso appeared phony, and her pseudo-love affair with Walken was nothing but a pathetic emotional plug in a movie that was devoid of any real meaning. I am disappointed that there are movies like this, ruining actor's like Christopher Walken's good name. I could barely sit through it.\"\n",
            "label:  0\n"
          ]
        }
      ]
    },
    {
      "cell_type": "markdown",
      "source": [
        "Berikutnya acak data untuk pelatihan dan membuat kumpulan pasangan (teks, label) ini:"
      ],
      "metadata": {
        "id": "lKyv4VGJVXnC"
      }
    },
    {
      "cell_type": "code",
      "source": [
        "BUFFER_SIZE = 10000\n",
        "BATCH_SIZE = 64\n",
        "\n",
        "train_dataset = train_dataset.shuffle(BUFFER_SIZE).batch(BATCH_SIZE).prefetch(tf.data.AUTOTUNE)\n",
        "test_dataset = test_dataset.batch(BATCH_SIZE).prefetch(tf.data.AUTOTUNE)\n",
        "\n",
        "for example, label in train_dataset.take(1):\n",
        "  print('texts: ', example.numpy()[:3])\n",
        "  print()\n",
        "  print('labels: ', label.numpy()[:3])\n"
      ],
      "metadata": {
        "colab": {
          "base_uri": "https://localhost:8080/"
        },
        "id": "0FQ-KCS_Veda",
        "outputId": "aa0549cb-33a1-4dcb-bb54-9c65a6445752"
      },
      "execution_count": 6,
      "outputs": [
        {
          "output_type": "stream",
          "name": "stdout",
          "text": [
            "texts:  [b'Honestly, this is easily in the top 5 of the worst movies I have ever seen. Partly, because it takes itself so seriously, as opposed to regular light hearted trash, this movies wants you to be emotionally involved, to feel for the characters, and to care about the alleged conspiracy. None of this ever even comes close to happening.<br /><br />****MILD SPOILERS******<br /><br />There are 3 main reasons why this movie is so terrible: 1.) Incoherent and totally non-sensical plot. 2.) Annoying style-over-substance \"MTV\" camerawork. 3.) Moronic characters and plot holes.<br /><br />Allow me to elaborate.<br /><br />1.) Apparently, when this movies was being made, they couldn\\'t decide whether to make a movie about church conspiracies, the stigmata, or possession. So, guess what? They combined them! An aetheist gets possessed by a dead person, who then makes her exhibit the stigmata so as to expose a church conspiracy. How a regular person is able to transcend death and possess another human being through his rosary is never explained, nor even talked about. Now, instead of just saying what he wants to say, he gives her the Stigmata. WHY? Why not just spit it out? Instead, we get treated to scenes of screaming things in harsh voices, carving cryptic messages on cars, and writing messages on walls. Apparently this priest was also a violent guy, because the possessed young lady also wigs out on one o f the characters, while talking in that cliched, harsh, \"possessed\" voice that we all have heard countless times. This also starts to tie into my second complaint, because whenever the young lady gets the stigmata, she also defies the laws of gravity by floating into the air, and tossing everything and everybody around her as if they were in an earthquake? Why does this happen? Who knows!?! My guess is that the director thought it looked \"cool\".<br /><br />2.) This movies contains dozens of shots, in slow motion, of course, of birds showing up out of nowhere and flying off, and most annoyingly, of water dripping. This woman\\'s apartment is constantly dripping water! CONSTANTLY! Logically, the place would probably fall apart with this many holes. To sum up this complaint, towards the end, and for absolutely no reason, the camera cuts to shots of water dripping, in slow motion, in reverse!! WHY!?! I have no idea! It has no relevance to anything, and once again, I\\'m betting it\\'s because the director thought it looked \"cool\".<br /><br />3.) One of the main characters says he became a priest to explain away holes in science. This doesn\\'t make sense to me. I would think that going to church would be enough, but no, he has to go through the entire rigamarole of becoming a priest. I just don\\'t buy it. Secondly, there are lots of plot holes, a few of which I will elaborate on below. For starters, when she first gets the stigmata, the scene ends with her laying unconscious, bleeding. Next, she\\'s in the hospital. Who called the ambulance? Another one is towards the end, when the previously mentioned \"scientific priest\" character is talking to the spirit who is possessing the girl. He says, \"Take me as your messenger!\" Not a word for word quote, but you get the idea. His response? \"You have no faith, only doubt!\" So, because of this, he possesses an aetheist! An aetheist has no faith, far less then any scientific priest! And then, there\\'s the fact that the object of this movie\\'s conspiracy, this Lost Gospel (of St. Thomas, I believe) is available at local bookstores. The characters are willing to kill to supress this document, but you could walk down to a bookstore and buy it. Maybe this is supposed to take place in an alternate history, where it isn\\'t wide known, but the movie never tries to tell us this, or to even hint that this is an alternate happening of that document\\'s uncovering.<br /><br />In closing, this movie is terrible to a spectacular degree. It is my arch-nemesis, which I feel the need to insult every chance I get. I loathe it. Final Grade: F'\n",
            " b'When I first saw a small scene of it in some announcements, I thought the show would be entertaining to watch. The little robot guy does look kinda cute. The style of animation does look sort of familiar to some classic shows. Before the show aired, I studied it through some sources. There, I did became slightly dismayed. The three children (Tommy, Gus and Lola) are voiced appropriately but Robotboy is an exception. It would have been a lot nicer if he were to be portrayed by a young lad. One good example is Robot Jones, a robot character from \"Whatever Happened To Robot Jones?\" The show isn\\'t bad really. But the way Robotboy is inappropriately portrayed is my only criticism. Thus, I don\\'t watch it much.'\n",
            " b\"'Moonstruck' is a love story. There is not one romance, there are at least three, but they all have to do with the same family. Loretta's family. Loretta (Cher) is about to marry Johnny Cammareri (Danny Aiello). She doesn't love him, but he is sweet and good man. When he leaves to visit his dying mother in Italy Loretta meets Johnny's brother Ronny (Nicolas Cage). He and Johnny haven't spoken each other in five years and Loretta wants to invite him to the wedding. Of course they fall instantly for each other.<br /><br />How this story and love stories of Loretta's parents and uncle and aunt develop is something you simply have to see for yourself. Every seen is a delight to watch, with Cher as the bright star in the middle of everything. She won and really deserved the Oscar that year. Cage is pretty good, and goofy as well, and Olympia Dukakis as Loretta's mother and Vincent Gardenia as her father are terrific. This movie is funny, charming and therefore highly enjoyable.\"]\n",
            "\n",
            "labels:  [0 0 1]\n"
          ]
        }
      ]
    },
    {
      "cell_type": "markdown",
      "source": [
        "## Buat Teks Encoder"
      ],
      "metadata": {
        "id": "0o2ogV8qVXto"
      }
    },
    {
      "cell_type": "markdown",
      "source": [
        "\n",
        "Teks mentah yang dimuat oleh tfds perlu diproses sebelum dapat digunakan dalam model. Cara termudah memproses teks untuk pelatihan adalah menggunakan lapisan TextVectorization. Lapisan ini memiliki banyak kemampuan, namun pada tutorial ini menggunakan perilaku default. Buat lapisan tersebut, dan teruskan teks kumpulan data ke metode .adapt lapisan:"
      ],
      "metadata": {
        "id": "UHSA-niYW7-E"
      }
    },
    {
      "cell_type": "code",
      "source": [
        "VOCAB_SIZE = 1000\n",
        "encoder = tf.keras.layers.TextVectorization(\n",
        "    max_tokens=VOCAB_SIZE)\n",
        "encoder.adapt(train_dataset.map(lambda text, label: text))"
      ],
      "metadata": {
        "id": "6QiE7YdKW_ij"
      },
      "execution_count": 7,
      "outputs": []
    },
    {
      "cell_type": "markdown",
      "source": [
        "Metode .adapt mengatur kosakata lapisan. 20 token pertama dapat dilihat dengan kode berikut. Setelah padding dan token yang tidak diketahui, mereka diurutkan berdasarkan frekuensi:"
      ],
      "metadata": {
        "id": "cot2ChvWXCc7"
      }
    },
    {
      "cell_type": "code",
      "source": [
        "vocab=np.array(encoder.get_vocabulary())\n",
        "vocab[:20]"
      ],
      "metadata": {
        "colab": {
          "base_uri": "https://localhost:8080/"
        },
        "id": "rjGeH6MmXB2W",
        "outputId": "ed62387e-ef58-4658-b1b9-ef0978547a4f"
      },
      "execution_count": 8,
      "outputs": [
        {
          "output_type": "execute_result",
          "data": {
            "text/plain": [
              "array(['', '[UNK]', 'the', 'and', 'a', 'of', 'to', 'is', 'in', 'it', 'i',\n",
              "       'this', 'that', 'br', 'was', 'as', 'for', 'with', 'movie', 'but'],\n",
              "      dtype='<U14')"
            ]
          },
          "metadata": {},
          "execution_count": 8
        }
      ]
    },
    {
      "cell_type": "markdown",
      "source": [
        "Setelah kosakata diatur, lapisan dapat mengkodekan teks ke dalam indeks. Tensor indeks diberi bantalan 0 ke urutan terpanjang dalam batch (kecuali jika Anda menetapkan output_sequence_length tetap):"
      ],
      "metadata": {
        "id": "OPGVnxKRXI3w"
      }
    },
    {
      "cell_type": "code",
      "source": [
        "encoded_example=encoder(example)[:3].numpy()\n",
        "encoded_example"
      ],
      "metadata": {
        "colab": {
          "base_uri": "https://localhost:8080/"
        },
        "id": "ftp3Pgr3XRYd",
        "outputId": "15a8da23-cbff-42c8-b21f-30c104ba6f19"
      },
      "execution_count": 9,
      "outputs": [
        {
          "output_type": "execute_result",
          "data": {
            "text/plain": [
              "array([[ 1, 11,  7, ...,  0,  0,  0],\n",
              "       [51, 10, 86, ...,  0,  0,  0],\n",
              "       [ 1,  7,  4, ...,  0,  0,  0]])"
            ]
          },
          "metadata": {},
          "execution_count": 9
        }
      ]
    },
    {
      "cell_type": "markdown",
      "source": [
        "Dengan pengaturan default, prosesnya tidak dapat dibalik sepenuhnya. Ada dua alasan utama untuk itu:\n",
        "-Nilai default untuk argumen standarisasi preprocessing.TextVectorization adalah \"lower_and_strip_punctuation\".\n",
        "-Ukuran kosa kata yang terbatas dan kurangnya fallback berbasis karakter menghasilkan beberapa token yang tidak diketahui."
      ],
      "metadata": {
        "id": "AMsTT9m3XWV_"
      }
    },
    {
      "cell_type": "code",
      "source": [
        "for n in range(3):\n",
        "  print(\"Original: \", example[n].numpy())\n",
        "  print(\"Round-trip: \", \" \".join(vocab[encoded_example[n]]))\n",
        "  print()"
      ],
      "metadata": {
        "colab": {
          "base_uri": "https://localhost:8080/"
        },
        "id": "IPQG_-oHXY14",
        "outputId": "7c373717-7454-4389-8763-8f6361ffa602"
      },
      "execution_count": 10,
      "outputs": [
        {
          "output_type": "stream",
          "name": "stdout",
          "text": [
            "Original:  b'Honestly, this is easily in the top 5 of the worst movies I have ever seen. Partly, because it takes itself so seriously, as opposed to regular light hearted trash, this movies wants you to be emotionally involved, to feel for the characters, and to care about the alleged conspiracy. None of this ever even comes close to happening.<br /><br />****MILD SPOILERS******<br /><br />There are 3 main reasons why this movie is so terrible: 1.) Incoherent and totally non-sensical plot. 2.) Annoying style-over-substance \"MTV\" camerawork. 3.) Moronic characters and plot holes.<br /><br />Allow me to elaborate.<br /><br />1.) Apparently, when this movies was being made, they couldn\\'t decide whether to make a movie about church conspiracies, the stigmata, or possession. So, guess what? They combined them! An aetheist gets possessed by a dead person, who then makes her exhibit the stigmata so as to expose a church conspiracy. How a regular person is able to transcend death and possess another human being through his rosary is never explained, nor even talked about. Now, instead of just saying what he wants to say, he gives her the Stigmata. WHY? Why not just spit it out? Instead, we get treated to scenes of screaming things in harsh voices, carving cryptic messages on cars, and writing messages on walls. Apparently this priest was also a violent guy, because the possessed young lady also wigs out on one o f the characters, while talking in that cliched, harsh, \"possessed\" voice that we all have heard countless times. This also starts to tie into my second complaint, because whenever the young lady gets the stigmata, she also defies the laws of gravity by floating into the air, and tossing everything and everybody around her as if they were in an earthquake? Why does this happen? Who knows!?! My guess is that the director thought it looked \"cool\".<br /><br />2.) This movies contains dozens of shots, in slow motion, of course, of birds showing up out of nowhere and flying off, and most annoyingly, of water dripping. This woman\\'s apartment is constantly dripping water! CONSTANTLY! Logically, the place would probably fall apart with this many holes. To sum up this complaint, towards the end, and for absolutely no reason, the camera cuts to shots of water dripping, in slow motion, in reverse!! WHY!?! I have no idea! It has no relevance to anything, and once again, I\\'m betting it\\'s because the director thought it looked \"cool\".<br /><br />3.) One of the main characters says he became a priest to explain away holes in science. This doesn\\'t make sense to me. I would think that going to church would be enough, but no, he has to go through the entire rigamarole of becoming a priest. I just don\\'t buy it. Secondly, there are lots of plot holes, a few of which I will elaborate on below. For starters, when she first gets the stigmata, the scene ends with her laying unconscious, bleeding. Next, she\\'s in the hospital. Who called the ambulance? Another one is towards the end, when the previously mentioned \"scientific priest\" character is talking to the spirit who is possessing the girl. He says, \"Take me as your messenger!\" Not a word for word quote, but you get the idea. His response? \"You have no faith, only doubt!\" So, because of this, he possesses an aetheist! An aetheist has no faith, far less then any scientific priest! And then, there\\'s the fact that the object of this movie\\'s conspiracy, this Lost Gospel (of St. Thomas, I believe) is available at local bookstores. The characters are willing to kill to supress this document, but you could walk down to a bookstore and buy it. Maybe this is supposed to take place in an alternate history, where it isn\\'t wide known, but the movie never tries to tell us this, or to even hint that this is an alternate happening of that document\\'s uncovering.<br /><br />In closing, this movie is terrible to a spectacular degree. It is my arch-nemesis, which I feel the need to insult every chance I get. I loathe it. Final Grade: F'\n",
            "Round-trip:  [UNK] this is easily in the top 5 of the worst movies i have ever seen [UNK] because it takes itself so seriously as [UNK] to [UNK] light [UNK] [UNK] this movies wants you to be [UNK] involved to feel for the characters and to care about the [UNK] [UNK] none of this ever even comes close to [UNK] br [UNK] [UNK] br there are 3 main [UNK] why this movie is so terrible 1 [UNK] and totally [UNK] plot 2 annoying [UNK] [UNK] [UNK] 3 [UNK] characters and plot [UNK] br [UNK] me to [UNK] br 1 apparently when this movies was being made they couldnt [UNK] whether to make a movie about [UNK] [UNK] the [UNK] or [UNK] so guess what they [UNK] them an [UNK] gets [UNK] by a dead person who then makes her [UNK] the [UNK] so as to [UNK] a [UNK] [UNK] how a [UNK] person is able to [UNK] death and [UNK] another human being through his [UNK] is never [UNK] nor even [UNK] about now instead of just saying what he wants to say he gives her the [UNK] why why not just [UNK] it out instead we get [UNK] to scenes of [UNK] things in [UNK] [UNK] [UNK] [UNK] [UNK] on [UNK] and writing [UNK] on [UNK] apparently this [UNK] was also a [UNK] guy because the [UNK] young lady also [UNK] out on one [UNK] [UNK] the characters while talking in that [UNK] [UNK] [UNK] voice that we all have heard [UNK] times this also starts to [UNK] into my second [UNK] because [UNK] the young lady gets the [UNK] she also [UNK] the [UNK] of [UNK] by [UNK] into the air and [UNK] everything and [UNK] around her as if they were in an [UNK] why does this happen who knows my guess is that the director thought it looked [UNK] br 2 this movies [UNK] [UNK] of shots in slow [UNK] of course of [UNK] showing up out of [UNK] and [UNK] off and most [UNK] of [UNK] [UNK] this [UNK] [UNK] is [UNK] [UNK] [UNK] [UNK] [UNK] the place would probably fall apart with this many [UNK] to [UNK] up this [UNK] towards the end and for absolutely no reason the camera [UNK] to shots of [UNK] [UNK] in slow [UNK] in [UNK] why i have no idea it has no [UNK] to anything and once again im [UNK] its because the director thought it looked [UNK] br 3 one of the main characters says he became a [UNK] to [UNK] away [UNK] in [UNK] this doesnt make sense to me i would think that going to [UNK] would be enough but no he has to go through the entire [UNK] of [UNK] a [UNK] i just dont buy it [UNK] there are lots of plot [UNK] a few of which i will [UNK] on [UNK] for [UNK] when she first gets the [UNK] the scene ends with her [UNK] [UNK] [UNK] next shes in the [UNK] who called the [UNK] another one is towards the end when the [UNK] [UNK] [UNK] [UNK] character is talking to the [UNK] who is [UNK] the girl he says take me as your [UNK] not a word for word [UNK] but you get the idea his [UNK] you have no [UNK] only doubt so because of this he [UNK] an [UNK] an [UNK] has no [UNK] far less then any [UNK] [UNK] and then theres the fact that the [UNK] of this movies [UNK] this lost [UNK] of [UNK] [UNK] i believe is [UNK] at local [UNK] the characters are [UNK] to kill to [UNK] this [UNK] but you could [UNK] down to a [UNK] and buy it maybe this is supposed to take place in an [UNK] history where it isnt [UNK] known but the movie never tries to tell us this or to even [UNK] that this is an [UNK] [UNK] of that [UNK] [UNK] br in [UNK] this movie is terrible to a [UNK] [UNK] it is my [UNK] which i feel the need to [UNK] every chance i get i [UNK] it final [UNK] [UNK]                                                                                                                                                                                                                                                                                                                     \n",
            "\n",
            "Original:  b'When I first saw a small scene of it in some announcements, I thought the show would be entertaining to watch. The little robot guy does look kinda cute. The style of animation does look sort of familiar to some classic shows. Before the show aired, I studied it through some sources. There, I did became slightly dismayed. The three children (Tommy, Gus and Lola) are voiced appropriately but Robotboy is an exception. It would have been a lot nicer if he were to be portrayed by a young lad. One good example is Robot Jones, a robot character from \"Whatever Happened To Robot Jones?\" The show isn\\'t bad really. But the way Robotboy is inappropriately portrayed is my only criticism. Thus, I don\\'t watch it much.'\n",
            "Round-trip:  when i first saw a small scene of it in some [UNK] i thought the show would be entertaining to watch the little [UNK] guy does look [UNK] [UNK] the style of animation does look sort of [UNK] to some classic shows before the show [UNK] i [UNK] it through some [UNK] there i did became [UNK] [UNK] the three children [UNK] [UNK] and [UNK] are [UNK] [UNK] but [UNK] is an [UNK] it would have been a lot [UNK] if he were to be portrayed by a young [UNK] one good example is [UNK] [UNK] a [UNK] character from whatever happened to [UNK] [UNK] the show isnt bad really but the way [UNK] is [UNK] portrayed is my only [UNK] [UNK] i dont watch it much                                                                                                                                                                                                                                                                                                                                                                                                                                                                                                                                                                                                                                                                                                                                                                                                                                                                                                       \n",
            "\n",
            "Original:  b\"'Moonstruck' is a love story. There is not one romance, there are at least three, but they all have to do with the same family. Loretta's family. Loretta (Cher) is about to marry Johnny Cammareri (Danny Aiello). She doesn't love him, but he is sweet and good man. When he leaves to visit his dying mother in Italy Loretta meets Johnny's brother Ronny (Nicolas Cage). He and Johnny haven't spoken each other in five years and Loretta wants to invite him to the wedding. Of course they fall instantly for each other.<br /><br />How this story and love stories of Loretta's parents and uncle and aunt develop is something you simply have to see for yourself. Every seen is a delight to watch, with Cher as the bright star in the middle of everything. She won and really deserved the Oscar that year. Cage is pretty good, and goofy as well, and Olympia Dukakis as Loretta's mother and Vincent Gardenia as her father are terrific. This movie is funny, charming and therefore highly enjoyable.\"\n",
            "Round-trip:  [UNK] is a love story there is not one romance there are at least three but they all have to do with the same family [UNK] family [UNK] [UNK] is about to [UNK] [UNK] [UNK] [UNK] [UNK] she doesnt love him but he is [UNK] and good man when he leaves to [UNK] his [UNK] mother in [UNK] [UNK] meets [UNK] brother [UNK] [UNK] [UNK] he and [UNK] havent [UNK] each other in five years and [UNK] wants to [UNK] him to the [UNK] of course they fall [UNK] for each [UNK] br how this story and love stories of [UNK] parents and [UNK] and [UNK] [UNK] is something you simply have to see for yourself every seen is a [UNK] to watch with [UNK] as the [UNK] star in the middle of everything she [UNK] and really [UNK] the oscar that year [UNK] is pretty good and [UNK] as well and [UNK] [UNK] as [UNK] mother and [UNK] [UNK] as her father are [UNK] this movie is funny [UNK] and [UNK] highly enjoyable                                                                                                                                                                                                                                                                                                                                                                                                                                                                                                                                                                                                                                                                                                                                                                                                                                                        \n",
            "\n"
          ]
        }
      ]
    },
    {
      "cell_type": "markdown",
      "source": [
        "## Buat Model"
      ],
      "metadata": {
        "id": "uPcftuUhXdew"
      }
    },
    {
      "cell_type": "markdown",
      "source": [
        "diagram model dapat dilihat pada gambar diatas\n",
        "1. Model ini dapat dibuat sebagai tf.keras.Sequential.\n",
        "2. Lapisan pertama adalah encoder, yang mengubah teks menjadi urutan indeks token.\n",
        "3. Setelah encoder adalah lapisan penyematan (embedding layer). Lapisan penyematan menyimpan satu vektor per kata. Saat dipanggil, ini mengubah rangkaian indeks kata menjadi rangkaian vektor. Vektor-vektor ini dapat dilatih. Setelah pelatihan (dengan data yang cukup), kata-kata dengan arti yang mirip sering kali memiliki vektor yang serupa. Pencarian indeks ini jauh lebih efisien daripada operasi setara dengan meneruskan vektor yang disandikan one-hot melalui lapisan tf.keras.layers.Dense.\n",
        "4. Jaringan saraf berulang (RNN) memproses masukan urutan dengan melakukan iterasi melalui elemen. RNN meneruskan keluaran dari satu langkah waktu ke masukannya pada langkah waktu berikutnya.\n",
        "Pembungkus tf.keras.layers.Bidirection juga dapat digunakan dengan lapisan RNN. Ini menyebarkan masukan maju dan mundur melalui lapisan RNN dan kemudian menggabungkan keluaran akhir.\n",
        " * Keuntungan utama RNN dua arah adalah sinyal dari awal masukan tidak perlu diproses sepanjang waktu untuk memengaruhi keluaran.\n",
        " * Kerugian utama dari RNN dua arah adalah Anda tidak dapat melakukan streaming prediksi secara efisien saat kata-kata ditambahkan di akhir.\n",
        "4. Setelah RNN mengonversi urutan menjadi satu vektor, kedua lapisan tersebut.Dense melakukan beberapa pemrosesan akhir, dan mengonversi representasi vektor ini menjadi logit tunggal sebagai keluaran klasifikasi.\n",
        "\n",
        "Kode nya adalah sebagai berikut :"
      ],
      "metadata": {
        "id": "qo6luxV6Xh1C"
      }
    },
    {
      "cell_type": "code",
      "source": [
        "model = tf.keras.Sequential([\n",
        "    encoder,\n",
        "    tf.keras.layers.Embedding(\n",
        "        input_dim=len(encoder.get_vocabulary()),\n",
        "        output_dim=64,\n",
        "        # Use masking to handle the variable sequence lengths\n",
        "        mask_zero=True),\n",
        "    tf.keras.layers.Bidirectional(tf.keras.layers.LSTM(64)),\n",
        "    tf.keras.layers.Dense(64, activation='relu'),\n",
        "    tf.keras.layers.Dense(1)\n",
        "])"
      ],
      "metadata": {
        "id": "se3M0l9XXeex"
      },
      "execution_count": 11,
      "outputs": []
    },
    {
      "cell_type": "markdown",
      "source": [
        "Harap dicatat bahwa model sekuensial Keras digunakan di sini karena semua lapisan dalam model hanya memiliki masukan tunggal dan menghasilkan keluaran tunggal. Jika Anda ingin menggunakan lapisan RNN stateful, Anda mungkin ingin membangun model Anda dengan API fungsional Keras atau subkelas model sehingga Anda dapat mengambil dan menggunakan kembali status lapisan RNN. Untuk detailnya bisa dilihat pada Keras RNN guide\n",
        "Lapisan penyematan menggunakan masking (uses masking ) untuk menangani panjang urutan yang bervariasi. Semua lapisan setelah penyematan dukungan penyematan"
      ],
      "metadata": {
        "id": "ikmJE80QX7aQ"
      }
    },
    {
      "cell_type": "code",
      "source": [
        "print([layer.supports_masking for layer in model.layers])"
      ],
      "metadata": {
        "colab": {
          "base_uri": "https://localhost:8080/"
        },
        "id": "pBpOsvYnX8F9",
        "outputId": "9003b941-9589-4ae4-e6d6-b99fe762df44"
      },
      "execution_count": 12,
      "outputs": [
        {
          "output_type": "stream",
          "name": "stdout",
          "text": [
            "[False, True, True, True, True]\n"
          ]
        }
      ]
    },
    {
      "cell_type": "markdown",
      "source": [
        "Untuk memastikan bahwa ini berfungsi seperti yang diharapkan, evaluasi sebuah kalimat dua kali. Pertama, satu kalimat sehingga tidak ada bantalan (padding) untuk disamarkan:"
      ],
      "metadata": {
        "id": "Gvy2DSdhX9bh"
      }
    },
    {
      "cell_type": "code",
      "source": [
        "# predict on a sample text without padding.\n",
        "\n",
        "sample_text = ('The movie was cool. The animation and the graphics '\n",
        "               'were out of this world. I would recommend this movie.')\n",
        "predictions = model.predict(np.array([sample_text]))\n",
        "print(predictions[0])"
      ],
      "metadata": {
        "colab": {
          "base_uri": "https://localhost:8080/"
        },
        "id": "v6xA22N5X_eJ",
        "outputId": "492e6ed7-0f7f-4ec7-ff35-d576702c7259"
      },
      "execution_count": 13,
      "outputs": [
        {
          "output_type": "stream",
          "name": "stdout",
          "text": [
            "1/1 [==============================] - 2s 2s/step\n",
            "[-0.00735735]\n"
          ]
        }
      ]
    },
    {
      "cell_type": "markdown",
      "source": [
        "Sekarang, evaluasi lagi dalam batch dengan kalimat yang lebih panjang. Hasilnya harus sama:"
      ],
      "metadata": {
        "id": "Wp14bR2YYA7y"
      }
    },
    {
      "cell_type": "code",
      "source": [
        "# predict on a sample text with padding\n",
        "\n",
        "padding = \"the \" * 2000\n",
        "predictions = model.predict(np.array([sample_text, padding]))\n",
        "print(predictions[0])"
      ],
      "metadata": {
        "colab": {
          "base_uri": "https://localhost:8080/"
        },
        "id": "fbt0JG1gYDgp",
        "outputId": "c403b266-8268-4da7-e390-a91aff59a1ba"
      },
      "execution_count": 14,
      "outputs": [
        {
          "output_type": "stream",
          "name": "stdout",
          "text": [
            "1/1 [==============================] - 0s 340ms/step\n",
            "[-0.00735735]\n"
          ]
        }
      ]
    },
    {
      "cell_type": "markdown",
      "source": [
        "compile model Keras untuk mengonfigurasi proses pelatihan:"
      ],
      "metadata": {
        "id": "fMC_7Ge5YFG4"
      }
    },
    {
      "cell_type": "code",
      "source": [
        "model.compile(loss=tf.keras.losses.BinaryCrossentropy(from_logits=True),\n",
        "              optimizer=tf.keras.optimizers.Adam(1e-4),\n",
        "              metrics=['accuracy'])"
      ],
      "metadata": {
        "id": "R5sjC7bQYHA3"
      },
      "execution_count": 15,
      "outputs": []
    },
    {
      "cell_type": "markdown",
      "source": [
        "## Train Model"
      ],
      "metadata": {
        "id": "9_ivp5iEYgm_"
      }
    },
    {
      "cell_type": "code",
      "source": [
        "history = model.fit(train_dataset, epochs=10,\n",
        "                    validation_data=test_dataset,\n",
        "                    validation_steps=30)"
      ],
      "metadata": {
        "id": "vMuHXvcsYjId",
        "colab": {
          "base_uri": "https://localhost:8080/"
        },
        "outputId": "c224541e-116f-4a9c-fcd7-3d137c4cf5bb"
      },
      "execution_count": 16,
      "outputs": [
        {
          "output_type": "stream",
          "name": "stdout",
          "text": [
            "Epoch 1/10\n",
            "391/391 [==============================] - 367s 924ms/step - loss: 0.6541 - accuracy: 0.5506 - val_loss: 0.5074 - val_accuracy: 0.7599\n",
            "Epoch 2/10\n",
            "391/391 [==============================] - 364s 931ms/step - loss: 0.4498 - accuracy: 0.7745 - val_loss: 0.3974 - val_accuracy: 0.8276\n",
            "Epoch 3/10\n",
            "391/391 [==============================] - 355s 909ms/step - loss: 0.3864 - accuracy: 0.8256 - val_loss: 0.3475 - val_accuracy: 0.8396\n",
            "Epoch 4/10\n",
            "391/391 [==============================] - 365s 933ms/step - loss: 0.3330 - accuracy: 0.8567 - val_loss: 0.3427 - val_accuracy: 0.8495\n",
            "Epoch 5/10\n",
            "391/391 [==============================] - 360s 920ms/step - loss: 0.3174 - accuracy: 0.8638 - val_loss: 0.3271 - val_accuracy: 0.8615\n",
            "Epoch 6/10\n",
            "391/391 [==============================] - 367s 938ms/step - loss: 0.3100 - accuracy: 0.8693 - val_loss: 0.3243 - val_accuracy: 0.8630\n",
            "Epoch 7/10\n",
            "391/391 [==============================] - 367s 939ms/step - loss: 0.3066 - accuracy: 0.8704 - val_loss: 0.3289 - val_accuracy: 0.8521\n",
            "Epoch 8/10\n",
            "391/391 [==============================] - 362s 924ms/step - loss: 0.3020 - accuracy: 0.8718 - val_loss: 0.3229 - val_accuracy: 0.8557\n",
            "Epoch 9/10\n",
            "391/391 [==============================] - 359s 918ms/step - loss: 0.2995 - accuracy: 0.8721 - val_loss: 0.3213 - val_accuracy: 0.8583\n",
            "Epoch 10/10\n",
            "391/391 [==============================] - 359s 918ms/step - loss: 0.2973 - accuracy: 0.8736 - val_loss: 0.3279 - val_accuracy: 0.8604\n"
          ]
        }
      ]
    },
    {
      "cell_type": "code",
      "source": [
        "test_loss, test_acc = model.evaluate(test_dataset)\n",
        "\n",
        "print('Test Loss:', test_loss)\n",
        "print('Test Accuracy:', test_acc)"
      ],
      "metadata": {
        "id": "x11-89yaYkIi",
        "colab": {
          "base_uri": "https://localhost:8080/"
        },
        "outputId": "fdc0b7a6-28a9-401d-c4e0-57896cc3c874"
      },
      "execution_count": 17,
      "outputs": [
        {
          "output_type": "stream",
          "name": "stdout",
          "text": [
            "391/391 [==============================] - 87s 223ms/step - loss: 0.3231 - accuracy: 0.8611\n",
            "Test Loss: 0.323058545589447\n",
            "Test Accuracy: 0.8610799908638\n"
          ]
        }
      ]
    },
    {
      "cell_type": "code",
      "source": [
        "plt.figure(figsize=(16, 8))\n",
        "plt.subplot(1, 2, 1)\n",
        "plot_graphs(history, 'accuracy')\n",
        "plt.ylim(None, 1)\n",
        "plt.subplot(1, 2, 2)\n",
        "plot_graphs(history, 'loss')\n",
        "plt.ylim(0, None)"
      ],
      "metadata": {
        "id": "8WX7f7YIYlRd",
        "colab": {
          "base_uri": "https://localhost:8080/",
          "height": 718
        },
        "outputId": "8764da96-2387-4ac6-db31-e7e99a51f52f"
      },
      "execution_count": 18,
      "outputs": [
        {
          "output_type": "execute_result",
          "data": {
            "text/plain": [
              "(0.0, 0.671939492225647)"
            ]
          },
          "metadata": {},
          "execution_count": 18
        },
        {
          "output_type": "display_data",
          "data": {
            "text/plain": [
              "<Figure size 1600x800 with 2 Axes>"
            ],
            "image/png": "[encoded data removed]"
          },
          "metadata": {}
        }
      ]
    },
    {
      "cell_type": "markdown",
      "source": [
        "Jalankan prediksi pada kalimat baru:\n",
        "Jika prediksi >= 0,0 berarti positif, jika tidak maka negatif."
      ],
      "metadata": {
        "id": "Vm2kCMFRYoOn"
      }
    },
    {
      "cell_type": "code",
      "source": [
        "sample_text = ('The movie was cool. The animation and the graphics '\n",
        "               'were out of this world. I would recommend this movie.')\n",
        "predictions = model.predict(np.array([sample_text]))"
      ],
      "metadata": {
        "id": "wq74KolpYyMn",
        "colab": {
          "base_uri": "https://localhost:8080/"
        },
        "outputId": "99db3cdd-e9b3-44e3-b270-f0e82e710660"
      },
      "execution_count": 19,
      "outputs": [
        {
          "output_type": "stream",
          "name": "stdout",
          "text": [
            "1/1 [==============================] - 2s 2s/step\n"
          ]
        }
      ]
    },
    {
      "cell_type": "markdown",
      "source": [
        "## Stack two or more LSTM layers\n",
        "Lapisan berulang Keras memiliki dua mode yang tersedia yang dikontrol oleh argumen konstruktor return_sequences :\n",
        "* Jika False, ia hanya mengembalikan keluaran terakhir untuk setiap urutan masukan (bentuk tensor 2D (batch_size, output_features)). Ini adalah default yang digunakan pada model sebelumnya.\n",
        "* Jika True, Sequence lengkap output berturut-turut untuk setiap langkah waktu dikembalikan (bentuk tensor 3D (ukuran_batch, langkah waktu, fitur_output)).\n",
        "\n",
        "\n",
        "Hal yang menarik dari penggunaan RNN dengan return_sequences=True adalah outputnya masih memiliki 3 axis, sama seperti inputnya, sehingga bisa diteruskan ke layer RNN lain, seperti ini:"
      ],
      "metadata": {
        "id": "XIjXpfuDY7zx"
      }
    },
    {
      "cell_type": "code",
      "source": [
        "model = tf.keras.Sequential([\n",
        "    encoder,\n",
        "    tf.keras.layers.Embedding(len(encoder.get_vocabulary()), 64, mask_zero=True),\n",
        "    tf.keras.layers.Bidirectional(tf.keras.layers.LSTM(64,  return_sequences=True)),\n",
        "    tf.keras.layers.Bidirectional(tf.keras.layers.LSTM(32)),\n",
        "    tf.keras.layers.Dense(64, activation='relu'),\n",
        "    tf.keras.layers.Dropout(0.5),\n",
        "    tf.keras.layers.Dense(1)\n",
        "])"
      ],
      "metadata": {
        "id": "xdnTdzjRZF51"
      },
      "execution_count": 20,
      "outputs": []
    },
    {
      "cell_type": "code",
      "source": [
        "model.compile(loss=tf.keras.losses.BinaryCrossentropy(from_logits=True),\n",
        "              optimizer=tf.keras.optimizers.Adam(1e-4),\n",
        "              metrics=['accuracy'])"
      ],
      "metadata": {
        "id": "1LI67cb4ZUkZ"
      },
      "execution_count": 21,
      "outputs": []
    },
    {
      "cell_type": "code",
      "source": [
        "history = model.fit(train_dataset, epochs=10,\n",
        "                    validation_data=test_dataset,\n",
        "                    validation_steps=30)"
      ],
      "metadata": {
        "id": "HCDRU9-fZcN3",
        "colab": {
          "base_uri": "https://localhost:8080/"
        },
        "outputId": "81c62815-e599-4876-c7ca-76103501ea97"
      },
      "execution_count": 22,
      "outputs": [
        {
          "output_type": "stream",
          "name": "stdout",
          "text": [
            "Epoch 1/10\n",
            "391/391 [==============================] - 722s 2s/step - loss: 0.6224 - accuracy: 0.5946 - val_loss: 0.4258 - val_accuracy: 0.8234\n",
            "Epoch 2/10\n",
            "391/391 [==============================] - 725s 2s/step - loss: 0.3864 - accuracy: 0.8329 - val_loss: 0.3453 - val_accuracy: 0.8469\n",
            "Epoch 3/10\n",
            "391/391 [==============================] - 712s 2s/step - loss: 0.3357 - accuracy: 0.8545 - val_loss: 0.3434 - val_accuracy: 0.8589\n",
            "Epoch 4/10\n",
            "391/391 [==============================] - 710s 2s/step - loss: 0.3151 - accuracy: 0.8651 - val_loss: 0.3214 - val_accuracy: 0.8583\n",
            "Epoch 5/10\n",
            "391/391 [==============================] - 716s 2s/step - loss: 0.3077 - accuracy: 0.8689 - val_loss: 0.3256 - val_accuracy: 0.8490\n",
            "Epoch 6/10\n",
            "391/391 [==============================] - 702s 2s/step - loss: 0.3029 - accuracy: 0.8705 - val_loss: 0.3180 - val_accuracy: 0.8516\n",
            "Epoch 7/10\n",
            "391/391 [==============================] - 710s 2s/step - loss: 0.3001 - accuracy: 0.8709 - val_loss: 0.3252 - val_accuracy: 0.8620\n",
            "Epoch 8/10\n",
            "391/391 [==============================] - 713s 2s/step - loss: 0.2956 - accuracy: 0.8738 - val_loss: 0.3271 - val_accuracy: 0.8656\n",
            "Epoch 9/10\n",
            "391/391 [==============================] - 711s 2s/step - loss: 0.2964 - accuracy: 0.8734 - val_loss: 0.3175 - val_accuracy: 0.8526\n",
            "Epoch 10/10\n",
            "391/391 [==============================] - 713s 2s/step - loss: 0.2918 - accuracy: 0.8750 - val_loss: 0.3152 - val_accuracy: 0.8578\n"
          ]
        }
      ]
    },
    {
      "cell_type": "code",
      "source": [
        "test_loss, test_acc = model.evaluate(test_dataset)\n",
        "\n",
        "print('Test Loss:', test_loss)\n",
        "print('Test Accuracy:', test_acc)"
      ],
      "metadata": {
        "id": "Ti7nCM3-ZiHp",
        "colab": {
          "base_uri": "https://localhost:8080/"
        },
        "outputId": "6992b48c-f7c4-4bd7-a5cb-d9e32f25c481"
      },
      "execution_count": 23,
      "outputs": [
        {
          "output_type": "stream",
          "name": "stdout",
          "text": [
            "391/391 [==============================] - 170s 434ms/step - loss: 0.3130 - accuracy: 0.8585\n",
            "Test Loss: 0.31304481625556946\n",
            "Test Accuracy: 0.858519971370697\n"
          ]
        }
      ]
    },
    {
      "cell_type": "code",
      "source": [
        "# predict on a sample text without padding.\n",
        "\n",
        "sample_text = ('The movie was not good. The animation and the graphics '\n",
        "               'were terrible. I would not recommend this movie.')\n",
        "predictions = model.predict(np.array([sample_text]))\n",
        "print(predictions)"
      ],
      "metadata": {
        "id": "RV2c4KXrZo9a",
        "colab": {
          "base_uri": "https://localhost:8080/"
        },
        "outputId": "6b1e94b0-5b76-4a7a-db8b-2309aedb0392"
      },
      "execution_count": 24,
      "outputs": [
        {
          "output_type": "stream",
          "name": "stdout",
          "text": [
            "1/1 [==============================] - 6s 6s/step\n",
            "[[-2.0389674]]\n"
          ]
        }
      ]
    },
    {
      "cell_type": "code",
      "source": [
        "plt.figure(figsize=(16, 6))\n",
        "plt.subplot(1, 2, 1)\n",
        "plot_graphs(history, 'accuracy')\n",
        "plt.subplot(1, 2, 2)\n",
        "plot_graphs(history, 'loss')"
      ],
      "metadata": {
        "id": "_SR6hALQZqv_",
        "colab": {
          "base_uri": "https://localhost:8080/",
          "height": 542
        },
        "outputId": "1ae6ba14-6092-48cd-884f-3f18353764e2"
      },
      "execution_count": 25,
      "outputs": [
        {
          "output_type": "display_data",
          "data": {
            "text/plain": [
              "<Figure size 1600x600 with 2 Axes>"
            ],
            "image/png": "[encoded data removed]"
          },
          "metadata": {}
        }
      ]
    },
    {
      "cell_type": "markdown",
      "source": [
        "# Praktikum 2\n",
        "Generator Teks dengan RNN"
      ],
      "metadata": {
        "id": "0CeatOdGZvnq"
      }
    },
    {
      "cell_type": "markdown",
      "source": [
        "Praktikum ini mendemonstrasikan cara melakukan genearsi text menggunakan RNN. Dataset yang digunkan adalah dataset Shakespeare's writing from Andrej Karpathy's The Unreasonable Effectiveness of Recurrent Neural Networks. Jika diberikan urutan karakter dari data ini (\"Shakespear\"), latih model untuk memprediksi karakter berikutnya dalam urutan (\"e\"). Urutan teks yang lebih panjang dapat dihasilkan dengan memanggil model berulang kali.\n",
        "Note: Enable GPU acceleration to execute this notebook faster. In Colab: Runtime > Change runtime type > Hardware accelerator > GPU.\n",
        "\n",
        "\n",
        "Meskipun beberapa kalimat memiliki tata bahasa, sebagian besar tidak masuk akal. Model belum mempelajari arti kata-kata, namun anggap saja:\n",
        "* Modelnya berbasis karakter. Saat pelatihan dimulai, model tidak mengetahui cara mengeja kata dalam bahasa Inggris, atau bahkan kata-kata tersebut merupakan satuan teks.\n",
        "* Struktur keluarannya menyerupai sandiwara—blok teks umumnya dimulai dengan nama pembicara, dengan huruf kapital semua mirip dengan kumpulan data.\n",
        "* Seperti yang ditunjukkan di bawah, model dilatih pada kumpulan teks kecil (masing-masing 100 karakter), dan masih mampu menghasilkan rangkaian teks yang lebih panjang dengan struktur yang koheren."
      ],
      "metadata": {
        "id": "AjKzWEsIbQr8"
      }
    },
    {
      "cell_type": "markdown",
      "source": [
        "## Setuo\n",
        "Import TensorFlow\n",
        "\n",
        "Download Dataset Shakespeare\n",
        "Sesuaikan dengan lokasi data yang Anda punya."
      ],
      "metadata": {
        "id": "_xhZ41djb4i2"
      }
    },
    {
      "cell_type": "code",
      "source": [
        "import tensorflow as tf\n",
        "import numpy as np\n",
        "import os\n",
        "import time"
      ],
      "metadata": {
        "id": "fp22OnujbQQW"
      },
      "execution_count": 1,
      "outputs": []
    },
    {
      "cell_type": "markdown",
      "source": [
        "Load Data"
      ],
      "metadata": {
        "id": "CwjYnmF8b_Xf"
      }
    },
    {
      "cell_type": "code",
      "source": [
        "path_to_file = tf.keras.utils.get_file('shakespeare.txt', 'https://storage.googleapis.com/download.tensorflow.org/data/shakespeare.txt')"
      ],
      "metadata": {
        "colab": {
          "base_uri": "https://localhost:8080/"
        },
        "id": "5GUFaPm7p-9X",
        "outputId": "979b5063-ea35-4313-fedf-0f7a29323182"
      },
      "execution_count": 2,
      "outputs": [
        {
          "output_type": "stream",
          "name": "stdout",
          "text": [
            "Downloading data from https://storage.googleapis.com/download.tensorflow.org/data/shakespeare.txt\n",
            "1115394/1115394 [==============================] - 0s 0us/step\n"
          ]
        }
      ]
    },
    {
      "cell_type": "code",
      "source": [
        "# Read, then decode for py2 compat.\n",
        "text = open(path_to_file, 'rb').read().decode(encoding='utf-8')\n",
        "# length of text is the number of characters in it\n",
        "print(f'Length of text: {len(text)} characters')"
      ],
      "metadata": {
        "id": "TNmai4x0cKdU",
        "colab": {
          "base_uri": "https://localhost:8080/"
        },
        "outputId": "07571c83-1c2a-4971-b5a5-fd2fcc5e888e"
      },
      "execution_count": 3,
      "outputs": [
        {
          "output_type": "stream",
          "name": "stdout",
          "text": [
            "Length of text: 1115394 characters\n"
          ]
        }
      ]
    },
    {
      "cell_type": "code",
      "source": [
        "# Take a look at the first 250 characters in text\n",
        "print(text[:250])"
      ],
      "metadata": {
        "id": "UphiHdEEcMRd",
        "colab": {
          "base_uri": "https://localhost:8080/"
        },
        "outputId": "9e30f4d9-57d1-455b-bf0c-63b0fa7b55d8"
      },
      "execution_count": 4,
      "outputs": [
        {
          "output_type": "stream",
          "name": "stdout",
          "text": [
            "First Citizen:\n",
            "Before we proceed any further, hear me speak.\n",
            "\n",
            "All:\n",
            "Speak, speak.\n",
            "\n",
            "First Citizen:\n",
            "You are all resolved rather to die than to famish?\n",
            "\n",
            "All:\n",
            "Resolved. resolved.\n",
            "\n",
            "First Citizen:\n",
            "First, you know Caius Marcius is chief enemy to the people.\n",
            "\n"
          ]
        }
      ]
    },
    {
      "cell_type": "code",
      "source": [
        "# The unique characters in the file\n",
        "vocab = sorted(set(text))\n",
        "print(f'{len(vocab)} unique characters')"
      ],
      "metadata": {
        "id": "6sa-ppxccNq-",
        "colab": {
          "base_uri": "https://localhost:8080/"
        },
        "outputId": "953cf1e6-3bbc-491b-82de-b09c97fd0ab0"
      },
      "execution_count": 5,
      "outputs": [
        {
          "output_type": "stream",
          "name": "stdout",
          "text": [
            "65 unique characters\n"
          ]
        }
      ]
    },
    {
      "cell_type": "markdown",
      "source": [
        "## Olah Teks\n",
        "\n",
        "Vectorize Teks\n",
        "\n",
        "Sebelum training, Anda perlu mengonversi string menjadi representasi numerik. tf.keras.layers.StringLookup dapat mengubah setiap karakter menjadi ID numerik. Caranya adalah teks akan dipecah menjadi token terlebih dahulu."
      ],
      "metadata": {
        "id": "EOJpCvC6ctIu"
      }
    },
    {
      "cell_type": "code",
      "source": [
        "example_texts = ['abcdefg', 'xyz']\n",
        "chars = tf.strings.unicode_split(example_texts, input_encoding='UTF-8')\n",
        "chars"
      ],
      "metadata": {
        "id": "2B_Whamccrz0",
        "colab": {
          "base_uri": "https://localhost:8080/"
        },
        "outputId": "d6cf8302-52d7-47b0-e557-5c59510367c4"
      },
      "execution_count": 6,
      "outputs": [
        {
          "output_type": "execute_result",
          "data": {
            "text/plain": [
              "<tf.RaggedTensor [[b'a', b'b', b'c', b'd', b'e', b'f', b'g'], [b'x', b'y', b'z']]>"
            ]
          },
          "metadata": {},
          "execution_count": 6
        }
      ]
    },
    {
      "cell_type": "markdown",
      "source": [
        "sekarang buat tf.keras.layers.StringLookup layer:"
      ],
      "metadata": {
        "id": "YBJf8gYbc2NJ"
      }
    },
    {
      "cell_type": "code",
      "source": [
        "ids_from_chars = tf.keras.layers.StringLookup(vocabulary=list(vocab), mask_token=None)"
      ],
      "metadata": {
        "id": "rBYqXyF0c6Bs"
      },
      "execution_count": 7,
      "outputs": []
    },
    {
      "cell_type": "markdown",
      "source": [
        "perintah diatas mengconvert token menjadi id"
      ],
      "metadata": {
        "id": "vSE82TnEc7NG"
      }
    },
    {
      "cell_type": "code",
      "source": [
        "ids = ids_from_chars(chars)\n",
        "ids"
      ],
      "metadata": {
        "id": "l12_XP66dH99",
        "colab": {
          "base_uri": "https://localhost:8080/"
        },
        "outputId": "ad5dc22f-32e0-417a-85c6-66e5ba4e9ecf"
      },
      "execution_count": 8,
      "outputs": [
        {
          "output_type": "execute_result",
          "data": {
            "text/plain": [
              "<tf.RaggedTensor [[40, 41, 42, 43, 44, 45, 46], [63, 64, 65]]>"
            ]
          },
          "metadata": {},
          "execution_count": 8
        }
      ]
    },
    {
      "cell_type": "markdown",
      "source": [
        "Karena tujuan tutorial ini adalah untuk menghasilkan teks, penting juga untuk membalikkan representasi ini. Untuk ini Anda dapat menggunakan kode tf.keras.layers.StringLookup(..., invert=True).\n",
        "\n",
        "Catatan: pada kode ini, daripada meneruskan kosakata asli yang dihasilkan dengan diurutkan(set(teks)) gunakan metode get_vocabulary() dari tf.keras.layers.StringLookup sehingga token [UNK] disetel dengan cara yang sama."
      ],
      "metadata": {
        "id": "1DkAFkdBdHFU"
      }
    },
    {
      "cell_type": "code",
      "source": [
        "chars_from_ids = tf.keras.layers.StringLookup(\n",
        "    vocabulary=ids_from_chars.get_vocabulary(), invert=True, mask_token=None)"
      ],
      "metadata": {
        "id": "fFLiBxvzdPcZ"
      },
      "execution_count": 9,
      "outputs": []
    },
    {
      "cell_type": "markdown",
      "source": [
        "Lapisan ini mengconvert kembali karakter dari vektor ID, dan mengembalikannya sebagai karakter tf.RaggedTensor:"
      ],
      "metadata": {
        "id": "sGcUbhTzdROf"
      }
    },
    {
      "cell_type": "code",
      "source": [
        "chars = chars_from_ids(ids)\n",
        "chars"
      ],
      "metadata": {
        "id": "J1UTL9mmdTDm",
        "colab": {
          "base_uri": "https://localhost:8080/"
        },
        "outputId": "ac2e666b-2be3-420b-ed99-a8fe3c88d6f3"
      },
      "execution_count": 10,
      "outputs": [
        {
          "output_type": "execute_result",
          "data": {
            "text/plain": [
              "<tf.RaggedTensor [[b'a', b'b', b'c', b'd', b'e', b'f', b'g'], [b'x', b'y', b'z']]>"
            ]
          },
          "metadata": {},
          "execution_count": 10
        }
      ]
    },
    {
      "cell_type": "markdown",
      "source": [
        "Anda dapat menggunakan tf.strings.reduce_join untuk menggabungkan kembali karakter menjadi string."
      ],
      "metadata": {
        "id": "j6XT0EWGdUUV"
      }
    },
    {
      "cell_type": "code",
      "source": [
        "tf.strings.reduce_join(chars, axis=-1).numpy()"
      ],
      "metadata": {
        "id": "E774E8NhdWpE",
        "colab": {
          "base_uri": "https://localhost:8080/"
        },
        "outputId": "b7703aad-c09c-453d-d60c-0842af304257"
      },
      "execution_count": 11,
      "outputs": [
        {
          "output_type": "execute_result",
          "data": {
            "text/plain": [
              "array([b'abcdefg', b'xyz'], dtype=object)"
            ]
          },
          "metadata": {},
          "execution_count": 11
        }
      ]
    },
    {
      "cell_type": "code",
      "source": [
        "def text_from_ids(ids):\n",
        "    return tf.strings.reduce_join(chars_from_ids(ids), axis=-1)"
      ],
      "metadata": {
        "id": "v_NYAzt3dYU6"
      },
      "execution_count": 12,
      "outputs": []
    },
    {
      "cell_type": "markdown",
      "source": [
        "## Prediksi\n",
        "\n",
        "Diberikan sebuah karakter, atau serangkaian karakter, karakter apa yang paling mungkin berikutnya? Ini adalah tugas yang harus Anda latih agar model dapat melakukannya. Masukan ke model akan berupa urutan karakter, dan Anda melatih model untuk memprediksi keluaran berupa karakter berikut pada setiap langkah waktu. Karena RNN mempertahankan keadaan internal yang bergantung pada elemen yang terlihat sebelumnya, mengingat semua karakter dihitung hingga saat ini, karakter apa selanjutnya?"
      ],
      "metadata": {
        "id": "iCFtkYeyexst"
      }
    },
    {
      "cell_type": "markdown",
      "source": [
        "Membuat Trianing Set dan Target\n",
        "\n",
        "Selanjutnya bagilah teks menjadi contoh sequence. Setiap masukan sequence akan berisi karakter seq_length dari teks. Untuk setiap masukan sequence, target prediksi berisi teks dengan panjang yang sama, hanya digeser satu karakter ke kanan. Jadi, bagi teks menjadi beberapa bagian seq_length+1. Misalnya, seq_length adalah 4 dan teks kita adalah \"Hello\". Urutan masukannya adalah \"Hell\", dan urutan targetnya adalah \"ello\". Untuk melakukan ini, pertama-tama gunakan fungsi tf.data.Dataset.from_tensor_slices untuk mengonversi vektor teks menjadi aliran indeks karakter."
      ],
      "metadata": {
        "id": "3WE17BsMe1Kk"
      }
    },
    {
      "cell_type": "code",
      "source": [
        "all_ids = ids_from_chars(tf.strings.unicode_split(text, 'UTF-8'))\n",
        "all_ids"
      ],
      "metadata": {
        "id": "yeg0Im-ze0fY",
        "colab": {
          "base_uri": "https://localhost:8080/"
        },
        "outputId": "f41bb290-97e9-4e25-c503-5f310e5590a4"
      },
      "execution_count": 13,
      "outputs": [
        {
          "output_type": "execute_result",
          "data": {
            "text/plain": [
              "<tf.Tensor: shape=(1115394,), dtype=int64, numpy=array([19, 48, 57, ..., 46,  9,  1])>"
            ]
          },
          "metadata": {},
          "execution_count": 13
        }
      ]
    },
    {
      "cell_type": "code",
      "source": [
        "ids_dataset = tf.data.Dataset.from_tensor_slices(all_ids)"
      ],
      "metadata": {
        "id": "LLO6LfiLe-3h"
      },
      "execution_count": 14,
      "outputs": []
    },
    {
      "cell_type": "code",
      "source": [
        "for ids in ids_dataset.take(10):\n",
        "    print(chars_from_ids(ids).numpy().decode('utf-8'))"
      ],
      "metadata": {
        "id": "eMS_IL5SfAiq",
        "colab": {
          "base_uri": "https://localhost:8080/"
        },
        "outputId": "0ab02807-23cd-4437-f536-d5c463cebec8"
      },
      "execution_count": 15,
      "outputs": [
        {
          "output_type": "stream",
          "name": "stdout",
          "text": [
            "F\n",
            "i\n",
            "r\n",
            "s\n",
            "t\n",
            " \n",
            "C\n",
            "i\n",
            "t\n",
            "i\n"
          ]
        }
      ]
    },
    {
      "cell_type": "code",
      "source": [
        "seq_length = 100"
      ],
      "metadata": {
        "id": "-84GAmKOfJb_"
      },
      "execution_count": 16,
      "outputs": []
    },
    {
      "cell_type": "markdown",
      "source": [
        "Metode batch memungkinkan Anda dengan mudah mengonversi karakter individual ini menjadi urutan ukuran yang diinginkan."
      ],
      "metadata": {
        "id": "-U-BsqUhfNlj"
      }
    },
    {
      "cell_type": "code",
      "source": [
        "sequences = ids_dataset.batch(seq_length+1, drop_remainder=True)\n",
        "\n",
        "for seq in sequences.take(1):\n",
        "  print(chars_from_ids(seq))"
      ],
      "metadata": {
        "id": "xSdIyaIAfGvQ",
        "colab": {
          "base_uri": "https://localhost:8080/"
        },
        "outputId": "c0303050-53cd-4236-c88d-f046db7d41fe"
      },
      "execution_count": 17,
      "outputs": [
        {
          "output_type": "stream",
          "name": "stdout",
          "text": [
            "tf.Tensor(\n",
            "[b'F' b'i' b'r' b's' b't' b' ' b'C' b'i' b't' b'i' b'z' b'e' b'n' b':'\n",
            " b'\\n' b'B' b'e' b'f' b'o' b'r' b'e' b' ' b'w' b'e' b' ' b'p' b'r' b'o'\n",
            " b'c' b'e' b'e' b'd' b' ' b'a' b'n' b'y' b' ' b'f' b'u' b'r' b't' b'h'\n",
            " b'e' b'r' b',' b' ' b'h' b'e' b'a' b'r' b' ' b'm' b'e' b' ' b's' b'p'\n",
            " b'e' b'a' b'k' b'.' b'\\n' b'\\n' b'A' b'l' b'l' b':' b'\\n' b'S' b'p' b'e'\n",
            " b'a' b'k' b',' b' ' b's' b'p' b'e' b'a' b'k' b'.' b'\\n' b'\\n' b'F' b'i'\n",
            " b'r' b's' b't' b' ' b'C' b'i' b't' b'i' b'z' b'e' b'n' b':' b'\\n' b'Y'\n",
            " b'o' b'u' b' '], shape=(101,), dtype=string)\n"
          ]
        }
      ]
    },
    {
      "cell_type": "markdown",
      "source": [
        "akan lebih mudah untuk melihat apa yang dilakukan jika Anda menggabungkan token kembali menjadi string:"
      ],
      "metadata": {
        "id": "XXeh0w2FfEU4"
      }
    },
    {
      "cell_type": "code",
      "source": [
        "for seq in sequences.take(5):\n",
        "    print(text_from_ids(seq).numpy())"
      ],
      "metadata": {
        "id": "YMNcLqi2fQac",
        "colab": {
          "base_uri": "https://localhost:8080/"
        },
        "outputId": "c15a2bcb-d4bf-41ea-d93a-2a20b8bd1acf"
      },
      "execution_count": 18,
      "outputs": [
        {
          "output_type": "stream",
          "name": "stdout",
          "text": [
            "b'First Citizen:\\nBefore we proceed any further, hear me speak.\\n\\nAll:\\nSpeak, speak.\\n\\nFirst Citizen:\\nYou '\n",
            "b'are all resolved rather to die than to famish?\\n\\nAll:\\nResolved. resolved.\\n\\nFirst Citizen:\\nFirst, you k'\n",
            "b\"now Caius Marcius is chief enemy to the people.\\n\\nAll:\\nWe know't, we know't.\\n\\nFirst Citizen:\\nLet us ki\"\n",
            "b\"ll him, and we'll have corn at our own price.\\nIs't a verdict?\\n\\nAll:\\nNo more talking on't; let it be d\"\n",
            "b'one: away, away!\\n\\nSecond Citizen:\\nOne word, good citizens.\\n\\nFirst Citizen:\\nWe are accounted poor citi'\n"
          ]
        }
      ]
    },
    {
      "cell_type": "markdown",
      "source": [
        "Untuk pelatihan, Anda memerlukan kumpulan data pasangan (input, label). Dimana input dan label merupakan urutan. Pada setiap langkah waktu, inputnya adalah karakter saat ini dan labelnya adalah karakter berikutnya. Berikut adalah fungsi yang mengambil urutan sebagai masukan, menduplikasi, dan menggesernya untuk menyelaraskan masukan dan label untuk setiap langkah waktu:"
      ],
      "metadata": {
        "id": "U0hhfP7NfZYr"
      }
    },
    {
      "cell_type": "code",
      "source": [
        "def split_input_target(sequence):\n",
        "  input_text = sequence[:-1]\n",
        "  target_text = sequence[1:]\n",
        "  return input_text, target_text"
      ],
      "metadata": {
        "id": "ZpYBrN52favl"
      },
      "execution_count": 19,
      "outputs": []
    },
    {
      "cell_type": "code",
      "source": [
        "split_input_target(list(\"Tensorflow\"))"
      ],
      "metadata": {
        "id": "ti_UV3w4fdUt",
        "colab": {
          "base_uri": "https://localhost:8080/"
        },
        "outputId": "4c9a7363-4b76-4a5a-f490-1714bc00bcf1"
      },
      "execution_count": 20,
      "outputs": [
        {
          "output_type": "execute_result",
          "data": {
            "text/plain": [
              "(['T', 'e', 'n', 's', 'o', 'r', 'f', 'l', 'o'],\n",
              " ['e', 'n', 's', 'o', 'r', 'f', 'l', 'o', 'w'])"
            ]
          },
          "metadata": {},
          "execution_count": 20
        }
      ]
    },
    {
      "cell_type": "code",
      "source": [
        "dataset = sequences.map(split_input_target)"
      ],
      "metadata": {
        "id": "Bl1r7YcDfg64"
      },
      "execution_count": 21,
      "outputs": []
    },
    {
      "cell_type": "code",
      "source": [
        "\n",
        "for input_example, target_example in dataset.take(1):\n",
        "    print(\"Input :\", text_from_ids(input_example).numpy())\n",
        "    print(\"Target:\", text_from_ids(target_example).numpy())"
      ],
      "metadata": {
        "id": "OUKJh0_DfiVM",
        "colab": {
          "base_uri": "https://localhost:8080/"
        },
        "outputId": "bb8635d0-e623-4a2c-cdc3-3514449a2514"
      },
      "execution_count": 22,
      "outputs": [
        {
          "output_type": "stream",
          "name": "stdout",
          "text": [
            "Input : b'First Citizen:\\nBefore we proceed any further, hear me speak.\\n\\nAll:\\nSpeak, speak.\\n\\nFirst Citizen:\\nYou'\n",
            "Target: b'irst Citizen:\\nBefore we proceed any further, hear me speak.\\n\\nAll:\\nSpeak, speak.\\n\\nFirst Citizen:\\nYou '\n"
          ]
        }
      ]
    },
    {
      "cell_type": "markdown",
      "source": [
        "## Membuat Batch Training\n",
        "Anda menggunakan tf.data untuk membagi teks menjadi sequence yang dapat diatur. Namun sebelum memasukkan data ini ke dalam model, Anda perlu mengacak data dan mengemasnya ke dalam batch."
      ],
      "metadata": {
        "id": "Cq7a0GVhfd92"
      }
    },
    {
      "cell_type": "code",
      "source": [
        "# Batch size\n",
        "BATCH_SIZE = 64\n",
        "\n",
        "# Buffer size to shuffle the dataset\n",
        "# (TF data is designed to work with possibly infinite sequences,\n",
        "# so it doesn't attempt to shuffle the entire sequence in memory. Instead,\n",
        "# it maintains a buffer in which it shuffles elements).\n",
        "BUFFER_SIZE = 10000\n",
        "\n",
        "dataset = (\n",
        "    dataset\n",
        "    .shuffle(BUFFER_SIZE)\n",
        "    .batch(BATCH_SIZE, drop_remainder=True)\n",
        "    .prefetch(tf.data.experimental.AUTOTUNE))\n",
        "\n",
        "dataset"
      ],
      "metadata": {
        "id": "QzY9i0L0foyT",
        "colab": {
          "base_uri": "https://localhost:8080/"
        },
        "outputId": "d355c1fc-4b9e-4758-acb2-17183fae163f"
      },
      "execution_count": 23,
      "outputs": [
        {
          "output_type": "execute_result",
          "data": {
            "text/plain": [
              "<_PrefetchDataset element_spec=(TensorSpec(shape=(64, 100), dtype=tf.int64, name=None), TensorSpec(shape=(64, 100), dtype=tf.int64, name=None))>"
            ]
          },
          "metadata": {},
          "execution_count": 23
        }
      ]
    },
    {
      "cell_type": "markdown",
      "source": [
        "## Buat Model\n",
        "Bagian ini mendefinisikan model sebagai subkelas keras.Model (untuk lebih detilnya, lihat Making new Layers and Models via subclassing).\n",
        "Model yang kita bangun memiliki 3 lapisan neural network :\n",
        "* tf.keras.layers.Embedding: Lapisan masukan. Tabel pencarian yang dapat dilatih yang akan memetakan setiap karakter-ID ke vektor dengan dimensi embedding_dim;\n",
        "* tf.keras.layers.GRU: lapisan RNN dengan ukuran unit=rnn_units (Anda juga dapat menggunakan lapisan LSTM di sini.)\n",
        "* tf.keras.layers.Dense: Lapisan keluaran, dengan keluaran vocab_size. Ini menghasilkan satu logit untuk setiap karakter dalam kosakata. Ini adalah log kemungkinan setiap karakter menurut model."
      ],
      "metadata": {
        "id": "4dGVAGIVfuW2"
      }
    },
    {
      "cell_type": "code",
      "source": [
        "# Length of the vocabulary in StringLookup Layer\n",
        "vocab_size = len(ids_from_chars.get_vocabulary())\n",
        "\n",
        "# The embedding dimension\n",
        "embedding_dim = 256\n",
        "\n",
        "# Number of RNN units\n",
        "rnn_units = 1024"
      ],
      "metadata": {
        "id": "gPNi-jxYf6zM"
      },
      "execution_count": 24,
      "outputs": []
    },
    {
      "cell_type": "code",
      "source": [
        "class MyModel(tf.keras.Model):\n",
        "  def __init__(self, vocab_size, embedding_dim, rnn_units):\n",
        "    super().__init__(self)\n",
        "    self.embedding = tf.keras.layers.Embedding(vocab_size, embedding_dim)\n",
        "    self.gru = tf.keras.layers.GRU(rnn_units,\n",
        "                                   return_sequences=True,\n",
        "                                   return_state=True)\n",
        "    self.dense = tf.keras.layers.Dense(vocab_size)\n",
        "\n",
        "  def call(self, inputs, states=None, return_state=False, training=False):\n",
        "    x = inputs\n",
        "    x = self.embedding(x, training=training)\n",
        "    if states is None:\n",
        "      states = self.gru.get_initial_state(x)\n",
        "    x, states = self.gru(x, initial_state=states, training=training)\n",
        "    x = self.dense(x, training=training)\n",
        "\n",
        "    if return_state:\n",
        "      return x, states\n",
        "    else:\n",
        "      return x"
      ],
      "metadata": {
        "id": "y4m2B6oYf77g"
      },
      "execution_count": 25,
      "outputs": []
    },
    {
      "cell_type": "code",
      "source": [
        "model = MyModel(\n",
        "    vocab_size=vocab_size,\n",
        "    embedding_dim=embedding_dim,\n",
        "    rnn_units=rnn_units)"
      ],
      "metadata": {
        "id": "effNE1e9f-pg"
      },
      "execution_count": 26,
      "outputs": []
    },
    {
      "cell_type": "markdown",
      "source": [
        "Note: Untuk pelatihan Anda bisa menggunakan model keras.Sequential di sini. Untuk menghasilkan teks nanti, Anda harus mengelola status internal RNN. Akan lebih mudah untuk memasukkan opsi input dan output status di awal, daripada mengatur ulang arsitektur model nanti. untuk detailnya bisa dilihat Keras RNN guide."
      ],
      "metadata": {
        "id": "5K6idlEFfud1"
      }
    },
    {
      "cell_type": "markdown",
      "source": [
        "## Uji Model\n",
        "Coba jalankan model dan cek apakah sidah sesuai dengan output\n",
        "pertama, cek bentuk dari output"
      ],
      "metadata": {
        "id": "2mjuVmgHgLer"
      }
    },
    {
      "cell_type": "code",
      "source": [
        "for input_example_batch, target_example_batch in dataset.take(1):\n",
        "    example_batch_predictions = model(input_example_batch)\n",
        "    print(example_batch_predictions.shape, \"# (batch_size, sequence_length, vocab_size)\")"
      ],
      "metadata": {
        "id": "ldO0Tz-RgK5v",
        "colab": {
          "base_uri": "https://localhost:8080/"
        },
        "outputId": "6f0aac80-df55-4eec-e705-dbc9ec595359"
      },
      "execution_count": 27,
      "outputs": [
        {
          "output_type": "stream",
          "name": "stdout",
          "text": [
            "(64, 100, 66) # (batch_size, sequence_length, vocab_size)\n"
          ]
        }
      ]
    },
    {
      "cell_type": "markdown",
      "source": [
        "Dalam contoh di atas, panjang urutan masukan adalah 100 tetapi model dapat dijalankan pada masukan dengan panjang berapa pun:"
      ],
      "metadata": {
        "id": "v2R6aOrVgOPe"
      }
    },
    {
      "cell_type": "code",
      "source": [
        "model.summary()"
      ],
      "metadata": {
        "id": "P0Ux56sxgNV9",
        "colab": {
          "base_uri": "https://localhost:8080/"
        },
        "outputId": "bc9315d1-bab8-4eaa-e12c-800f6a10bb85"
      },
      "execution_count": 28,
      "outputs": [
        {
          "output_type": "stream",
          "name": "stdout",
          "text": [
            "Model: \"my_model\"\n",
            "_________________________________________________________________\n",
            " Layer (type)                Output Shape              Param #   \n",
            "=================================================================\n",
            " embedding (Embedding)       multiple                  16896     \n",
            "                                                                 \n",
            " gru (GRU)                   multiple                  3938304   \n",
            "                                                                 \n",
            " dense (Dense)               multiple                  67650     \n",
            "                                                                 \n",
            "=================================================================\n",
            "Total params: 4022850 (15.35 MB)\n",
            "Trainable params: 4022850 (15.35 MB)\n",
            "Non-trainable params: 0 (0.00 Byte)\n",
            "_________________________________________________________________\n"
          ]
        }
      ]
    },
    {
      "cell_type": "markdown",
      "source": [
        "Untuk mendapatkan prediksi aktual dari model, Anda perlu mengambil sampel dari distribusi keluaran, untuk mendapatkan indeks karakter aktual. Distribusi ini ditentukan oleh logit pada kosakata karakter. Catatan: Penting untuk mengambil sampel dari distribusi ini karena mengambil argmax dari distribusi tersebut dapat dengan mudah membuat model terjebak dalam infinote loop. Cobalah untuk contoh pertama di batch:"
      ],
      "metadata": {
        "id": "EeUKjX1FgSOE"
      }
    },
    {
      "cell_type": "code",
      "source": [
        "sampled_indices = tf.random.categorical(example_batch_predictions[0], num_samples=1)\n",
        "sampled_indices = tf.squeeze(sampled_indices, axis=-1).numpy()"
      ],
      "metadata": {
        "id": "zKdARkaNgHQW"
      },
      "execution_count": 29,
      "outputs": []
    },
    {
      "cell_type": "markdown",
      "source": [
        "Hal ini memberi kita, pada setiap langkah waktu, prediksi indeks karakter berikutnya:"
      ],
      "metadata": {
        "id": "ByYdZ6wugcbC"
      }
    },
    {
      "cell_type": "code",
      "source": [
        "sampled_indices"
      ],
      "metadata": {
        "id": "uA5GCVAQgeNf",
        "colab": {
          "base_uri": "https://localhost:8080/"
        },
        "outputId": "027103ca-ae6b-4e3b-cdb1-aaa3c26d5ea3"
      },
      "execution_count": 30,
      "outputs": [
        {
          "output_type": "execute_result",
          "data": {
            "text/plain": [
              "array([30, 65, 64, 33,  8, 18,  2, 59, 41, 18, 24, 23, 28, 23, 27, 36, 25,\n",
              "       33, 50,  5, 11,  1, 43, 16,  6, 29, 54, 10, 54, 62, 25, 22, 45, 60,\n",
              "       40,  1, 28, 53, 60,  9, 25, 53, 25, 58, 29, 40, 58, 57, 46, 38, 42,\n",
              "       32, 12, 57,  6, 35, 23, 36, 22,  5,  8, 28,  7,  5, 10, 52, 25, 56,\n",
              "       39, 62,  1, 39, 15, 53,  8, 13, 53, 50, 61, 61, 32, 30, 47, 40, 58,\n",
              "       54, 14, 37,  7, 12, 32, 22, 37, 42, 45, 45,  1, 64, 43, 32])"
            ]
          },
          "metadata": {},
          "execution_count": 30
        }
      ]
    },
    {
      "cell_type": "markdown",
      "source": [
        "Dekode kode berikut untuk melihat teks yang diprediksi oleh model tidak terlatih ini:"
      ],
      "metadata": {
        "id": "YfQHXhQ7gfSy"
      }
    },
    {
      "cell_type": "code",
      "source": [
        "print(\"Input:\\n\", text_from_ids(input_example_batch[0]).numpy())\n",
        "print()\n",
        "print(\"Next Char Predictions:\\n\", text_from_ids(sampled_indices).numpy())"
      ],
      "metadata": {
        "id": "VFw_GfhMghAp",
        "colab": {
          "base_uri": "https://localhost:8080/"
        },
        "outputId": "763bba07-4a30-4287-ada5-70127d8d5c3b"
      },
      "execution_count": 31,
      "outputs": [
        {
          "output_type": "stream",
          "name": "stdout",
          "text": [
            "Input:\n",
            " b\"\\nANGELO:\\nAlways obedient to your grace's will,\\nI come to know your pleasure.\\n\\nDUKE VINCENTIO:\\nAngelo\"\n",
            "\n",
            "Next Char Predictions:\n",
            " b\"QzyT-E tbEKJOJNWLTk&:\\ndC'Po3owLIfua\\nOnu.LnLsPasrgYcS;r'VJWI&-O,&3mLqZw\\nZBn-?nkvvSQhasoAX,;SIXcff\\nydS\"\n"
          ]
        }
      ]
    },
    {
      "cell_type": "markdown",
      "source": [
        "## Train Model\n",
        "Pada titik ini permasalahan dapat dianggap sebagai permasalahan klasifikasi standar. Permasalahan dapat disimpulkan dengan : Berdasarkan status RNN sebelumnya, dan masukan langkah kali ini, prediksi kelas karakter berikutnya."
      ],
      "metadata": {
        "id": "HuaLREeEhEbb"
      }
    },
    {
      "cell_type": "markdown",
      "source": [
        "### Tambahan optimizer dan fungsi loss\n",
        "loss function tf.keras.losses.sparse_categorical_crossentropy standar berfungsi dalam kasus ini karena diterapkan di seluruh dimensi terakhir prediksi. Karena model Anda mengembalikan logits, Anda perlu mengatur flag from_logits."
      ],
      "metadata": {
        "id": "3Wuw37l5hKG9"
      }
    },
    {
      "cell_type": "code",
      "source": [
        "loss = tf.losses.SparseCategoricalCrossentropy(from_logits=True)"
      ],
      "metadata": {
        "id": "JiFXCl3AhJWb"
      },
      "execution_count": 32,
      "outputs": []
    },
    {
      "cell_type": "code",
      "source": [
        "example_batch_mean_loss = loss(target_example_batch, example_batch_predictions)\n",
        "print(\"Prediction shape: \", example_batch_predictions.shape, \" # (batch_size, sequence_length, vocab_size)\")\n",
        "print(\"Mean loss:        \", example_batch_mean_loss)"
      ],
      "metadata": {
        "id": "hMnJowGEhPVX",
        "colab": {
          "base_uri": "https://localhost:8080/"
        },
        "outputId": "19fea81b-6ebf-4cda-d134-3431dff31d62"
      },
      "execution_count": 33,
      "outputs": [
        {
          "output_type": "stream",
          "name": "stdout",
          "text": [
            "Prediction shape:  (64, 100, 66)  # (batch_size, sequence_length, vocab_size)\n",
            "Mean loss:         tf.Tensor(4.189757, shape=(), dtype=float32)\n"
          ]
        }
      ]
    },
    {
      "cell_type": "markdown",
      "source": [
        "Model yang baru diinisialisasi tidak boleh terlalu yakin dengan dirinya sendiri, semua log keluaran harus memiliki besaran yang sama. Untuk mengonfirmasi hal ini, Anda dapat memeriksa bahwa eksponensial dari loss rata-rata harus kira-kira sama dengan ukuran kosakata. Loss yang jauh lebih tinggi berarti model tersebut yakin akan jawaban yang salah, dan memiliki inisialisasi yang buruk:"
      ],
      "metadata": {
        "id": "PJaDZ6xjhUR7"
      }
    },
    {
      "cell_type": "code",
      "source": [
        "tf.exp(example_batch_mean_loss).numpy()"
      ],
      "metadata": {
        "id": "pvRnqSxEhS4j",
        "colab": {
          "base_uri": "https://localhost:8080/"
        },
        "outputId": "7ee8751b-225f-448d-991a-6964eae67234"
      },
      "execution_count": 34,
      "outputs": [
        {
          "output_type": "execute_result",
          "data": {
            "text/plain": [
              "66.00674"
            ]
          },
          "metadata": {},
          "execution_count": 34
        }
      ]
    },
    {
      "cell_type": "markdown",
      "source": [
        "Konfigurasikan prosedur pelatihan menggunakan metode tf.keras.Model.compile. Gunakan tf.keras.optimizers.Adam dengan argumen default dan fungsi loss."
      ],
      "metadata": {
        "id": "NtqV9gichXrV"
      }
    },
    {
      "cell_type": "code",
      "source": [
        "model.compile(optimizer='adam', loss=loss)"
      ],
      "metadata": {
        "id": "8VIUyQE_hbGG"
      },
      "execution_count": 35,
      "outputs": []
    },
    {
      "cell_type": "markdown",
      "source": [
        "### Konfigurasi Checkpoints\n",
        "Gunakan tf.keras.callbacks.ModelCheckpoint untuk memastikan bahwa checkpoint disimpan selama pelatihan:"
      ],
      "metadata": {
        "id": "3MtNpu8lheLX"
      }
    },
    {
      "cell_type": "code",
      "source": [
        "# Directory where the checkpoints will be saved\n",
        "checkpoint_dir = './training_checkpoints'\n",
        "# Name of the checkpoint files\n",
        "checkpoint_prefix = os.path.join(checkpoint_dir, \"ckpt_{epoch}\")\n",
        "\n",
        "checkpoint_callback = tf.keras.callbacks.ModelCheckpoint(\n",
        "    filepath=checkpoint_prefix,\n",
        "    save_weights_only=True)"
      ],
      "metadata": {
        "id": "5j3yYH5Mh3FD"
      },
      "execution_count": 36,
      "outputs": []
    },
    {
      "cell_type": "markdown",
      "source": [
        "### Lakukan Proses Training\n",
        "Agar waktu pelatihan tidak terlalu lama, gunakan 10 epoch untuk melatih model. Di Colab, setel runtime ke GPU untuk pelatihan yang lebih cepat."
      ],
      "metadata": {
        "id": "rdlFmth-h5Iw"
      }
    },
    {
      "cell_type": "code",
      "source": [
        "EPOCHS = 30\n",
        "history = model.fit(dataset, epochs=EPOCHS, callbacks=[checkpoint_callback])"
      ],
      "metadata": {
        "id": "5nXm1SSnh-LC",
        "colab": {
          "base_uri": "https://localhost:8080/"
        },
        "outputId": "9f4e3c86-166d-4f60-e5ab-4ac879dc70f3"
      },
      "execution_count": 38,
      "outputs": [
        {
          "output_type": "stream",
          "name": "stdout",
          "text": [
            "Epoch 1/30\n",
            "172/172 [==============================] - 15s 64ms/step - loss: 2.2073\n",
            "Epoch 2/30\n",
            "172/172 [==============================] - 14s 62ms/step - loss: 1.8358\n",
            "Epoch 3/30\n",
            "172/172 [==============================] - 13s 61ms/step - loss: 1.6246\n",
            "Epoch 4/30\n",
            "172/172 [==============================] - 12s 62ms/step - loss: 1.4983\n",
            "Epoch 5/30\n",
            "172/172 [==============================] - 14s 62ms/step - loss: 1.4156\n",
            "Epoch 6/30\n",
            "172/172 [==============================] - 13s 62ms/step - loss: 1.3556\n",
            "Epoch 7/30\n",
            "172/172 [==============================] - 13s 62ms/step - loss: 1.3066\n",
            "Epoch 8/30\n",
            "172/172 [==============================] - 12s 61ms/step - loss: 1.2634\n",
            "Epoch 9/30\n",
            "172/172 [==============================] - 12s 61ms/step - loss: 1.2220\n",
            "Epoch 10/30\n",
            "172/172 [==============================] - 12s 61ms/step - loss: 1.1826\n",
            "Epoch 11/30\n",
            "172/172 [==============================] - 14s 64ms/step - loss: 1.1421\n",
            "Epoch 12/30\n",
            "172/172 [==============================] - 12s 62ms/step - loss: 1.0996\n",
            "Epoch 13/30\n",
            "172/172 [==============================] - 13s 64ms/step - loss: 1.0540\n",
            "Epoch 14/30\n",
            "172/172 [==============================] - 12s 62ms/step - loss: 1.0062\n",
            "Epoch 15/30\n",
            "172/172 [==============================] - 13s 62ms/step - loss: 0.9567\n",
            "Epoch 16/30\n",
            "172/172 [==============================] - 12s 61ms/step - loss: 0.9051\n",
            "Epoch 17/30\n",
            "172/172 [==============================] - 12s 61ms/step - loss: 0.8520\n",
            "Epoch 18/30\n",
            "172/172 [==============================] - 12s 62ms/step - loss: 0.7991\n",
            "Epoch 19/30\n",
            "172/172 [==============================] - 12s 62ms/step - loss: 0.7485\n",
            "Epoch 20/30\n",
            "172/172 [==============================] - 13s 62ms/step - loss: 0.7027\n",
            "Epoch 21/30\n",
            "172/172 [==============================] - 12s 61ms/step - loss: 0.6594\n",
            "Epoch 22/30\n",
            "172/172 [==============================] - 12s 61ms/step - loss: 0.6214\n",
            "Epoch 23/30\n",
            "172/172 [==============================] - 12s 63ms/step - loss: 0.5885\n",
            "Epoch 24/30\n",
            "172/172 [==============================] - 12s 61ms/step - loss: 0.5612\n",
            "Epoch 25/30\n",
            "172/172 [==============================] - 12s 62ms/step - loss: 0.5393\n",
            "Epoch 26/30\n",
            "172/172 [==============================] - 13s 62ms/step - loss: 0.5183\n",
            "Epoch 27/30\n",
            "172/172 [==============================] - 12s 62ms/step - loss: 0.5010\n",
            "Epoch 28/30\n",
            "172/172 [==============================] - 13s 62ms/step - loss: 0.4874\n",
            "Epoch 29/30\n",
            "172/172 [==============================] - 13s 61ms/step - loss: 0.4738\n",
            "Epoch 30/30\n",
            "172/172 [==============================] - 12s 61ms/step - loss: 0.4617\n"
          ]
        }
      ]
    },
    {
      "cell_type": "markdown",
      "source": [
        "## Generate Teks\n",
        "Cara termudah untuk menghasilkan teks dengan model ini adalah dengan menjalankannya dalam loop, dan menyimpan status internal model saat Anda menjalankannya.\n",
        "\n",
        "Setiap kali Anda memanggil model, Anda memasukkan beberapa teks dan state internal. Model mengembalikan prediksi untuk karakter berikutnya dan state barunya. Masukkan kembali prediksi dan state ke model untuk terus menghasilkan teks."
      ],
      "metadata": {
        "id": "-jb4ExikiIRH"
      }
    },
    {
      "cell_type": "markdown",
      "source": [
        "Berikut ini membuat prediksi satu langkah:"
      ],
      "metadata": {
        "id": "wCDKf-R_iPvM"
      }
    },
    {
      "cell_type": "code",
      "source": [
        "class OneStep(tf.keras.Model):\n",
        "  def __init__(self, model, chars_from_ids, ids_from_chars, temperature=1.0):\n",
        "    super().__init__()\n",
        "    self.temperature = temperature\n",
        "    self.model = model\n",
        "    self.chars_from_ids = chars_from_ids\n",
        "    self.ids_from_chars = ids_from_chars\n",
        "\n",
        "    # Create a mask to prevent \"[UNK]\" from being generated.\n",
        "    skip_ids = self.ids_from_chars(['[UNK]'])[:, None]\n",
        "    sparse_mask = tf.SparseTensor(\n",
        "        # Put a -inf at each bad index.\n",
        "        values=[-float('inf')]*len(skip_ids),\n",
        "        indices=skip_ids,\n",
        "        # Match the shape to the vocabulary\n",
        "        dense_shape=[len(ids_from_chars.get_vocabulary())])\n",
        "    self.prediction_mask = tf.sparse.to_dense(sparse_mask)\n",
        "\n",
        "  @tf.function\n",
        "  def generate_one_step(self, inputs, states=None):\n",
        "    # Convert strings to token IDs.\n",
        "    input_chars = tf.strings.unicode_split(inputs, 'UTF-8')\n",
        "    input_ids = self.ids_from_chars(input_chars).to_tensor()\n",
        "\n",
        "    # Run the model.\n",
        "    # predicted_logits.shape is [batch, char, next_char_logits]\n",
        "    predicted_logits, states = self.model(inputs=input_ids, states=states,\n",
        "                                          return_state=True)\n",
        "    # Only use the last prediction.\n",
        "    predicted_logits = predicted_logits[:, -1, :]\n",
        "    predicted_logits = predicted_logits/self.temperature\n",
        "    # Apply the prediction mask: prevent \"[UNK]\" from being generated.\n",
        "    predicted_logits = predicted_logits + self.prediction_mask\n",
        "\n",
        "    # Sample the output logits to generate token IDs.\n",
        "    predicted_ids = tf.random.categorical(predicted_logits, num_samples=1)\n",
        "    predicted_ids = tf.squeeze(predicted_ids, axis=-1)\n",
        "\n",
        "    # Convert from token ids to characters\n",
        "    predicted_chars = self.chars_from_ids(predicted_ids)\n",
        "\n",
        "    # Return the characters and model state.\n",
        "    return predicted_chars, states"
      ],
      "metadata": {
        "id": "o1cdl4IGiHDL"
      },
      "execution_count": 39,
      "outputs": []
    },
    {
      "cell_type": "code",
      "source": [
        "one_step_model = OneStep(model, chars_from_ids, ids_from_chars)"
      ],
      "metadata": {
        "id": "y4u991KxiUFs"
      },
      "execution_count": 40,
      "outputs": []
    },
    {
      "cell_type": "markdown",
      "source": [
        "Jalankan secara berulang untuk menghasilkan beberapa teks. Melihat teks yang dihasilkan, Anda akan melihat model mengetahui kapan harus menggunakan huruf besar, membuat paragraf, dan meniru kosakata menulis seperti Shakespeare. Karena sedikitnya jumlah epoch pelatihan, model belum belajar membentuk kalimat runtut."
      ],
      "metadata": {
        "id": "Xx0JmIe9iTjY"
      }
    },
    {
      "cell_type": "code",
      "source": [
        "start = time.time()\n",
        "states = None\n",
        "next_char = tf.constant(['ROMEO:'])\n",
        "result = [next_char]\n",
        "\n",
        "for n in range(1000):\n",
        "  next_char, states = one_step_model.generate_one_step(next_char, states=states)\n",
        "  result.append(next_char)\n",
        "\n",
        "result = tf.strings.join(result)\n",
        "end = time.time()\n",
        "print(result[0].numpy().decode('utf-8'), '\\n\\n' + '_'*80)\n",
        "print('\\nRun time:', end - start)"
      ],
      "metadata": {
        "id": "B81ESd-HiceW",
        "colab": {
          "base_uri": "https://localhost:8080/"
        },
        "outputId": "fb4ee40d-a7e9-47a9-dacf-08396a2f327d"
      },
      "execution_count": 41,
      "outputs": [
        {
          "output_type": "stream",
          "name": "stdout",
          "text": [
            "ROMEO:\n",
            "The worst is brouded upon our pales\n",
            "And take away with treacherous eye.\n",
            "\n",
            "DUKE OF YORK:\n",
            "You say, sir, he has in my dangerous: and then\n",
            "you are welcome.\n",
            "\n",
            "DUKE VINCENTIO:\n",
            "Thou shalt not do't: let me go with this direction.\n",
            "Take him our tent;\n",
            "Your creft and son about it, a forward gulf\n",
            "is worth the fire, at my depart, if thou\n",
            "wast my loved again;\n",
            "And oar heaven and pale conspirely abouts,\n",
            "Which, being and sovereign, for my Romeo\n",
            "Your knees to keep my constant fortune,\n",
            "That I, you will not well I met with direction\n",
            "Like occup from me. Both high ago highly!\n",
            "\n",
            "HERMIONE:\n",
            "That shall she may be his guilticus, that\n",
            "The very mercy did from that thou art,\n",
            "And young affection, he makes so proff to lose.\n",
            "\n",
            "RICHMOND:\n",
            "I will be there before these noble duke,\n",
            "Im all my bend my pentities: when he doth swear,\n",
            "So Romeo will be daggarot, dream of all these?\n",
            "Tubous,--\n",
            "A pair of fly! Courage, or gaunt\n",
            "Did not I let me be in sudden?\n",
            "\n",
            "Nurse:\n",
            "Out upon you!\n",
            "\n",
            "HENRY PERCY:\n",
            "Both you in Comixior Petruchio, I pray\n",
            "Them \n",
            "\n",
            "________________________________________________________________________________\n",
            "\n",
            "Run time: 3.236992120742798\n"
          ]
        }
      ]
    },
    {
      "cell_type": "markdown",
      "source": [
        "Hal termudah yang dapat Anda lakukan untuk meningkatkan hasil adalah dengan melatihnya lebih lama (coba EPOCHS = 30). Anda juga dapat bereksperimen dengan string awal yang berbeda, mencoba menambahkan lapisan RNN lain untuk meningkatkan akurasi model, atau menyesuaikan parameter suhu untuk menghasilkan prediksi yang kurang lebih acak.\n",
        "Jika Anda ingin model menghasilkan teks lebih cepat, hal termudah yang dapat Anda lakukan adalah membuat teks secara batch. Pada contoh di bawah, model menghasilkan 5 keluaran dalam waktu yang hampir sama dengan waktu yang dibutuhkan untuk menghasilkan 1 keluaran di atas."
      ],
      "metadata": {
        "id": "2IBNQg8Eibw9"
      }
    },
    {
      "cell_type": "code",
      "source": [
        "start = time.time()\n",
        "states = None\n",
        "next_char = tf.constant(['ROMEO:', 'ROMEO:', 'ROMEO:', 'ROMEO:', 'ROMEO:'])\n",
        "result = [next_char]\n",
        "\n",
        "for n in range(1000):\n",
        "  next_char, states = one_step_model.generate_one_step(next_char, states=states)\n",
        "  result.append(next_char)\n",
        "\n",
        "result = tf.strings.join(result)\n",
        "end = time.time()\n",
        "print(result, '\\n\\n' + '_'*80)\n",
        "print('\\nRun time:', end - start)"
      ],
      "metadata": {
        "id": "e_fvwXJSijK0",
        "colab": {
          "base_uri": "https://localhost:8080/"
        },
        "outputId": "03cbb3f4-bfac-4628-ad9e-0eb2dcd59e11"
      },
      "execution_count": 42,
      "outputs": [
        {
          "output_type": "stream",
          "name": "stdout",
          "text": [
            "tf.Tensor(\n",
            "[b\"ROMEO:\\nThe thrannobsleps as you are spirit, only so\\nThat I; you might have left to sup.\\n\\nSecond Gentleman:\\nAnd when the kind profess of doom of good\\nDefacious, replaining shall be safe!\\n\\nCAMILLO:\\nShe hangs.\\n\\nSecond Murderer:\\nA man that born himself recover here,\\nWhom cannot destinity ours Maituney.\\n\\nSecond Watchman:\\nO, keep you with out distress! here be not one,\\nWe'll fit him traitors' replorain, wherein\\nYet he have more canquister'd home, that tread upon.\\nThe deep do whistle as one that loves much\\nUtherm our soldiers' stuff, Master Clarence?\\nWhen the second helment of my hand\\nAnd studyer age under this fellow-s?\\nCorrecting paint for fault of a king, that young Had women\\nAre mine 'dones! This Montague!\\n\\nHENRY BOLINGBROKE:\\nSo shall them forth: this deed, who Dothen remosse\\nThe heaven so fond felt our general, hurl race,\\nHis roses like enforce of his throat; that they remiss\\nThe cloght of any noble creation, I enjoy his mind.\\n\\nSecond Musician:\\nHaving defens his worth a mortal, folks,\\nNot jogu\"\n",
            " b\"ROMEO:\\nThe heavens divine, Baptista kindness,\\nMy will to your cheeks she would,\\nFor soft to Christian-like castaidy.\\n\\nPRINCE:\\nThou causest to have honest widow?\\n\\nLUCIO:\\nSwift held, boy, to your suit's not to stand you straight.\\n\\nQUEEN ELIZABETH:\\nWhat stury user to a sea-more bright hind\\neach one thing on our return? whom soft of torry his\\nTybalt hardly endswartiage nothing else\\nBut what hour trimmem in his time to me\\nagainst upon you. Take you the which,\\nMy father loved the year, and loathed empriments oug\\nfire with cortsement and stured again and one\\nBlunk, for some accuss to quarrel wearing him,\\nAnd dispopining the midwife to money\\nmanking to conquest the yearing.\\n\\nDUKE OF AUMERLE:\\nFitzwater, I cheap, believe me so.\\nMy revenuever pause against the entito\\nif the senators of this place.\\nDid Ever York can die not from the wrong\\nTible in thy speecherous life:\\nYour brother dies to me again unmusice with me.\\n\\nWARWICK:\\nO unbid scorns me now, those shines are past.\\nThou didst is dead; and happy wa\"\n",
            " b\"ROMEO:\\nThere was a wisnect have sent for, somewhat child\\nPast abused with death and begg'd our covert's live\\nTybalt do our firm.\\n\\nMARCIUS:\\nWill you we sister\\nTo breathe us all onerong with pear boughwers,\\nWhich, while it tempt us both about the city's rina?\\n\\nROMEO:\\nWho shine the duke?\\n\\nDUKE VINCENTIO:\\nIt is a dinner.\\n\\nFirst Citizen:\\nI should ha' them here; therefore pity; and\\nBe even in the diviness shanness of my inholenable,\\nTo drow thy kingly governey ones.\\n\\nPRINCE:\\nRomeo slew him, Sin John Master tells my patt.\\n\\nKING RICHARD III:\\nLook, when thou doth not go sleep, do not fright for whip him,\\nTo live and death's countenance and smile,\\nI love you to Puthio, or pretty friend;\\nAnd thou appear them for that geeds out of intects,\\nWhose edguanings shall he prove the feigned:\\nYet wear me back to Rome, I'll crave the day\\nWhen I shall hold ling Rome all Kate:\\nSo pardon me, Kate, and we will.\\n\\nThird Watchman:\\nTo-morrow then belike, the letter of Angelo;\\nI have been fortune a goodly bale, and all be\"\n",
            " b\"ROMEO:\\nThe gredneys of their felthing grief frowns, I have\\nno grass doth Cheirls waves.\\nHarpy hath but a torturers\\nTo visit home for me to live,\\nMade him my brows, nou never of my boling feast.\\nYour father's dear, who last now fares my brother? what is the\\nmoulder, answer?\\n\\nProvost:\\nThere me to send the Volscest father of a woman\\nAnd but one of my life, against the queen;\\nOr let us love, so houses are burnt,\\nBut, serves, this lady's love, this feis in his looks,\\nThat he even hours his power to death.\\nBut why us heart's broken pauses; standing by no mead\\nThan these poor chamber up in sedge,\\nEven to the entertainments the divine,\\nBecause he would not: drunk my mother, mine,\\nWas it more courtship to your father?\\n\\nFLORIZEL:\\nLet us always by the law,\\nThat I must findly would give him death;\\nUnless you can, your places enough the world.\\n\\nGLOUCESTER:\\nSawd child, entering: then woman to marry,\\nAnd ask my life rude's runners with her virtue,\\nMowbray, imparted down of women are:\\nMade gloribs and eyes \"\n",
            " b\"ROMEO:\\nThe two churld fates the ragize of\\ninquity, stout apparent\\nWith the ensign of the fellow strains of blood to thee!\\nDelighter me but losing from his thren and not onlegia:\\nIf thou prefulst my day, thou shalt not live\\nSome moneys to a mother, of the duke,\\nBegatable as eces I have true herein:\\nClarence, here, Volsces, Henry, and here from me, as her, she could\\nHe will advant to him disfilling up;\\nFor then, God grant he of much libst,\\nThat heirless it joys, when he begg'd in\\neach other in the lustful bendful sold,\\nWhich indeed-shepherd's daughter with our pleasure; hath\\nMore wood's rately prayers' breath.\\nLook, there is thy hearts; but, in advensed,\\nNever earthly bend. For, boy; I am going:\\nFor this world, that happy tread our former,\\nAre my charge up in a malice all,\\nAnd left them not any yeir:\\nIf thou deny'st it forch, your voice: I dare not shake to thee\\nThan with the hole loods on me: we have a troth.\\nWhen didst thou go along, or else I know she?\\n\\nGRUMIO:\\nMistake!\\n\\nProvost:\\nAway, I sa\"], shape=(5,), dtype=string) \n",
            "\n",
            "________________________________________________________________________________\n",
            "\n",
            "Run time: 3.2874834537506104\n"
          ]
        }
      ]
    },
    {
      "cell_type": "markdown",
      "source": [
        "## Ekspor Model Generator\n",
        "Model satu langkah ini dapat dengan mudah disimpan dan digunakan kembali, memungkinkan Anda menggunakannya di mana pun tf.saved_model diterima."
      ],
      "metadata": {
        "id": "X3rdi0FCiij6"
      }
    },
    {
      "cell_type": "code",
      "source": [
        "tf.saved_model.save(one_step_model, 'one_step')\n",
        "one_step_reloaded = tf.saved_model.load('one_step')"
      ],
      "metadata": {
        "id": "CayQaiRzioBZ",
        "colab": {
          "base_uri": "https://localhost:8080/"
        },
        "outputId": "e19b264d-76ce-4bab-9a15-9151bc578be7"
      },
      "execution_count": 43,
      "outputs": [
        {
          "output_type": "stream",
          "name": "stderr",
          "text": [
            "WARNING:tensorflow:Skipping full serialization of Keras layer <__main__.OneStep object at 0x7f1e43717e50>, because it is not built.\n",
            "WARNING:tensorflow:Model's `__init__()` arguments contain non-serializable objects. Please implement a `get_config()` method in the subclassed Model for proper saving and loading. Defaulting to empty config.\n",
            "WARNING:tensorflow:Model's `__init__()` arguments contain non-serializable objects. Please implement a `get_config()` method in the subclassed Model for proper saving and loading. Defaulting to empty config.\n"
          ]
        }
      ]
    },
    {
      "cell_type": "code",
      "source": [
        "states = None\n",
        "next_char = tf.constant(['ROMEO:'])\n",
        "result = [next_char]\n",
        "\n",
        "for n in range(100):\n",
        "  next_char, states = one_step_reloaded.generate_one_step(next_char, states=states)\n",
        "  result.append(next_char)\n",
        "\n",
        "print(tf.strings.join(result)[0].numpy().decode(\"utf-8\"))"
      ],
      "metadata": {
        "id": "5t3-N-w7ipTh",
        "colab": {
          "base_uri": "https://localhost:8080/"
        },
        "outputId": "3d87662a-766d-4ecf-eb26-d074b9f87099"
      },
      "execution_count": 44,
      "outputs": [
        {
          "output_type": "stream",
          "name": "stdout",
          "text": [
            "ROMEO:\n",
            "The serpent I am my name is Kates.\n",
            "\n",
            "PETRUCHIO:\n",
            "Signior Hortensio, come you this after.\n",
            "\n",
            "ROMEO:\n",
            "Bid \n"
          ]
        }
      ]
    },
    {
      "cell_type": "markdown",
      "source": [
        "# Tugas\n",
        "Prosedur pelatihan pada praktikum 2 merupakan prosedur sederhana, yang tidak memberi Anda banyak kendali. Model ini menggunakan \"teacher-forcing\" yang mencegah prediksi buruk diumpankan kembali ke model, sehingga model tidak pernah belajar untuk pulih dari kesalahan. Jadi, setelah Anda melihat cara menjalankan model secara manual, selanjutnya Anda akan mengimplementasikan custom loop pelatihan. Hal ini memberikan titik awal jika, misalnya, Anda ingin menerapkan pembelajaran kurikulum untuk membantu menstabilkan keluaran open-loop model. Bagian terpenting dari loop pelatihan khusus adalah fungsi langkah pelatihan.\n",
        "\n",
        "Gunakan tf.GradientTape untuk men track nilai gradient. Anda dapat mempelajari lebih lanjut tentang pendekatan ini dengan membaca eager execution guide.\n",
        "\n",
        "Prosedurnya adalah"
      ],
      "metadata": {
        "id": "pUfLU2BrjKKG"
      }
    },
    {
      "cell_type": "markdown",
      "source": [
        "1. Jalankan Model dan hitung loss dengan tf.GradientTape."
      ],
      "metadata": {
        "id": "5P1f7p4QjU2g"
      }
    },
    {
      "cell_type": "markdown",
      "source": [
        "2. Hitung update dan terapkan pada model dengan optimizer"
      ],
      "metadata": {
        "id": "yCCVfMsAjXm0"
      }
    },
    {
      "cell_type": "code",
      "source": [
        "class CustomTraining(MyModel):\n",
        "  @tf.function\n",
        "  def train_step(self, inputs):\n",
        "      inputs, labels = inputs\n",
        "      with tf.GradientTape() as tape:\n",
        "          predictions = self(inputs, training=True)\n",
        "          loss = self.loss(labels, predictions)\n",
        "      grads = tape.gradient(loss, model.trainable_variables)\n",
        "      self.optimizer.apply_gradients(zip(grads, model.trainable_variables))\n",
        "\n",
        "      return {'loss': loss}"
      ],
      "metadata": {
        "id": "5Yn1Po7_jZ42"
      },
      "execution_count": 45,
      "outputs": []
    },
    {
      "cell_type": "markdown",
      "source": [
        "Kode diatas menerapkan train_step method sesuai dengan  Keras' train_step conventions. Ini opsional, tetapi memungkinkan Anda mengubah perilaku langkah pelatihan dan tetap menggunakan keras Model.compile and Model.fit methods."
      ],
      "metadata": {
        "id": "61Hz6BAxjgjc"
      }
    },
    {
      "cell_type": "code",
      "source": [
        "model = CustomTraining(\n",
        "    vocab_size=len(ids_from_chars.get_vocabulary()),\n",
        "    embedding_dim=embedding_dim,\n",
        "    rnn_units=rnn_units)"
      ],
      "metadata": {
        "id": "ArvXejFxjoWC"
      },
      "execution_count": 46,
      "outputs": []
    },
    {
      "cell_type": "code",
      "source": [
        "model.compile(optimizer = tf.keras.optimizers.Adam(),\n",
        "              loss=tf.keras.losses.SparseCategoricalCrossentropy(from_logits=True))"
      ],
      "metadata": {
        "id": "hg8UmX3JjrFe"
      },
      "execution_count": 47,
      "outputs": []
    },
    {
      "cell_type": "code",
      "source": [
        "model.fit(dataset, epochs=1)"
      ],
      "metadata": {
        "id": "TB_k8Tjrjtlf",
        "colab": {
          "base_uri": "https://localhost:8080/"
        },
        "outputId": "635ada23-9b7e-4848-9b82-7683deeb5442"
      },
      "execution_count": 48,
      "outputs": [
        {
          "output_type": "stream",
          "name": "stdout",
          "text": [
            "172/172 [==============================] - 17s 66ms/step - loss: 2.7265\n"
          ]
        },
        {
          "output_type": "execute_result",
          "data": {
            "text/plain": [
              "<keras.src.callbacks.History at 0x7f1e4370f2e0>"
            ]
          },
          "metadata": {},
          "execution_count": 48
        }
      ]
    },
    {
      "cell_type": "code",
      "source": [
        "EPOCHS = 10\n",
        "\n",
        "mean = tf.metrics.Mean()\n",
        "\n",
        "for epoch in range(EPOCHS):\n",
        "    start = time.time()\n",
        "\n",
        "    mean.reset_states()\n",
        "    for (batch_n, (inp, target)) in enumerate(dataset):\n",
        "        logs = model.train_step([inp, target])\n",
        "        mean.update_state(logs['loss'])\n",
        "\n",
        "        if batch_n % 50 == 0:\n",
        "            template = f\"Epoch {epoch+1} Batch {batch_n} Loss {logs['loss']:.4f}\"\n",
        "            print(template)\n",
        "\n",
        "    # saving (checkpoint) the model every 5 epochs\n",
        "    if (epoch + 1) % 5 == 0:\n",
        "        model.save_weights(checkpoint_prefix.format(epoch=epoch))\n",
        "\n",
        "    print()\n",
        "    print(f'Epoch {epoch+1} Loss: {mean.result().numpy():.4f}')\n",
        "    print(f'Time taken for 1 epoch {time.time() - start:.2f} sec')\n",
        "    print(\"_\"*80)\n",
        "\n",
        "model.save_weights(checkpoint_prefix.format(epoch=epoch))"
      ],
      "metadata": {
        "id": "Tyhs3-B9jwi9",
        "colab": {
          "base_uri": "https://localhost:8080/"
        },
        "outputId": "0f4fbe81-0359-4374-d18c-a00c9b96180f"
      },
      "execution_count": 49,
      "outputs": [
        {
          "output_type": "stream",
          "name": "stdout",
          "text": [
            "Epoch 1 Batch 0 Loss 2.1904\n",
            "Epoch 1 Batch 50 Loss 2.0891\n",
            "Epoch 1 Batch 100 Loss 1.9692\n",
            "Epoch 1 Batch 150 Loss 1.8996\n",
            "\n",
            "Epoch 1 Loss: 1.9988\n",
            "Time taken for 1 epoch 13.71 sec\n",
            "________________________________________________________________________________\n",
            "Epoch 2 Batch 0 Loss 1.8338\n",
            "Epoch 2 Batch 50 Loss 1.7892\n",
            "Epoch 2 Batch 100 Loss 1.7028\n",
            "Epoch 2 Batch 150 Loss 1.6339\n",
            "\n",
            "Epoch 2 Loss: 1.7194\n",
            "Time taken for 1 epoch 12.07 sec\n",
            "________________________________________________________________________________\n",
            "Epoch 3 Batch 0 Loss 1.6392\n",
            "Epoch 3 Batch 50 Loss 1.5711\n",
            "Epoch 3 Batch 100 Loss 1.5117\n",
            "Epoch 3 Batch 150 Loss 1.5046\n",
            "\n",
            "Epoch 3 Loss: 1.5556\n",
            "Time taken for 1 epoch 12.02 sec\n",
            "________________________________________________________________________________\n",
            "Epoch 4 Batch 0 Loss 1.4389\n",
            "Epoch 4 Batch 50 Loss 1.4564\n",
            "Epoch 4 Batch 100 Loss 1.5024\n",
            "Epoch 4 Batch 150 Loss 1.4400\n",
            "\n",
            "Epoch 4 Loss: 1.4552\n",
            "Time taken for 1 epoch 12.45 sec\n",
            "________________________________________________________________________________\n",
            "Epoch 5 Batch 0 Loss 1.4190\n",
            "Epoch 5 Batch 50 Loss 1.3713\n",
            "Epoch 5 Batch 100 Loss 1.3873\n",
            "Epoch 5 Batch 150 Loss 1.3605\n",
            "\n",
            "Epoch 5 Loss: 1.3863\n",
            "Time taken for 1 epoch 13.29 sec\n",
            "________________________________________________________________________________\n",
            "Epoch 6 Batch 0 Loss 1.3482\n",
            "Epoch 6 Batch 50 Loss 1.3407\n",
            "Epoch 6 Batch 100 Loss 1.3362\n",
            "Epoch 6 Batch 150 Loss 1.3449\n",
            "\n",
            "Epoch 6 Loss: 1.3335\n",
            "Time taken for 1 epoch 17.12 sec\n",
            "________________________________________________________________________________\n",
            "Epoch 7 Batch 0 Loss 1.2621\n",
            "Epoch 7 Batch 50 Loss 1.2729\n",
            "Epoch 7 Batch 100 Loss 1.2726\n",
            "Epoch 7 Batch 150 Loss 1.3215\n",
            "\n",
            "Epoch 7 Loss: 1.2891\n",
            "Time taken for 1 epoch 13.54 sec\n",
            "________________________________________________________________________________\n",
            "Epoch 8 Batch 0 Loss 1.2306\n",
            "Epoch 8 Batch 50 Loss 1.2483\n",
            "Epoch 8 Batch 100 Loss 1.2586\n",
            "Epoch 8 Batch 150 Loss 1.2397\n",
            "\n",
            "Epoch 8 Loss: 1.2476\n",
            "Time taken for 1 epoch 13.41 sec\n",
            "________________________________________________________________________________\n",
            "Epoch 9 Batch 0 Loss 1.2036\n",
            "Epoch 9 Batch 50 Loss 1.1931\n",
            "Epoch 9 Batch 100 Loss 1.2085\n",
            "Epoch 9 Batch 150 Loss 1.1791\n",
            "\n",
            "Epoch 9 Loss: 1.2091\n",
            "Time taken for 1 epoch 20.47 sec\n",
            "________________________________________________________________________________\n",
            "Epoch 10 Batch 0 Loss 1.1519\n",
            "Epoch 10 Batch 50 Loss 1.1592\n",
            "Epoch 10 Batch 100 Loss 1.1866\n",
            "Epoch 10 Batch 150 Loss 1.1773\n",
            "\n",
            "Epoch 10 Loss: 1.1704\n",
            "Time taken for 1 epoch 12.12 sec\n",
            "________________________________________________________________________________\n"
          ]
        }
      ]
    },
    {
      "cell_type": "markdown",
      "source": [
        "Jalankan kode diatas dan sebutkan perbedaanya dengan praktikum 2?"
      ],
      "metadata": {
        "id": "i75iba7lj21W"
      }
    },
    {
      "cell_type": "markdown",
      "source": [
        "Perbedaan kode diatas dengan praktikum 2 yaitu pada praktikum 2 tidak memberi kita banyak kendali atas pelatihan. praktikum 2 menggunakan \"teacher-forcing\" yang mencegah prediksi buruk diumpankan kembali ke model, sehingga model tidak pernah belajar untuk pulih dari kesalahan."
      ],
      "metadata": {
        "id": "EWz30SBYj6kg"
      }
    }
  ]
}