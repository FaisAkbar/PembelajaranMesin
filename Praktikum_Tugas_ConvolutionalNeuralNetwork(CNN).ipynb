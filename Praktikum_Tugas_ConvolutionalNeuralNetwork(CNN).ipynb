{
  "nbformat": 4,
  "nbformat_minor": 0,
  "metadata": {
    "colab": {
      "provenance": [],
      "authorship_tag": "ABX9TyMxwS58/T9iquFQeiq7Xetp",
      "include_colab_link": true
    },
    "kernelspec": {
      "name": "python3",
      "display_name": "Python 3"
    },
    "language_info": {
      "name": "python"
    }
  },
  "cells": [
    {
      "cell_type": "markdown",
      "metadata": {
        "id": "view-in-github",
        "colab_type": "text"
      },
      "source": [
        "<a href=\"https://colab.research.google.com/github/FaisAkbar/PembelajaranMesin/blob/main/Praktikum_Tugas_ConvolutionalNeuralNetwork(CNN).ipynb\" target=\"_parent\"><img src=\"https://colab.research.google.com/assets/colab-badge.svg\" alt=\"Open In Colab\"/></a>"
      ]
    },
    {
      "cell_type": "markdown",
      "source": [
        "### Praktikum - Convolutional Neural Network (CNN)\n",
        "### Nama : Fawaa'el Akbar Firdaus\n",
        "### No : 10\n",
        "### NIM : 2141720215\n",
        "### Kelas : TI-3B\n",
        "### Github : https://github.com/FaisAkbar/PembelajaranMesin"
      ],
      "metadata": {
        "id": "bC3mLxXokWU9"
      }
    },
    {
      "cell_type": "code",
      "execution_count": null,
      "metadata": {
        "id": "eFC4T4NxkK1a"
      },
      "outputs": [],
      "source": []
    }
  ]
}